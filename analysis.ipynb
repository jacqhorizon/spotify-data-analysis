{
 "cells": [
  {
   "cell_type": "code",
   "execution_count": 1,
   "metadata": {},
   "outputs": [],
   "source": [
    "import numpy as np\n",
    "import pandas as pd\n",
    "import seaborn as sns\n",
    "import matplotlib.pyplot as plt"
   ]
  },
  {
   "cell_type": "markdown",
   "metadata": {},
   "source": [
    "## Data Cleaning"
   ]
  },
  {
   "cell_type": "code",
   "execution_count": 154,
   "metadata": {
    "slideshow": {
     "slide_type": "slide"
    }
   },
   "outputs": [
    {
     "name": "stdout",
     "output_type": "stream",
     "text": [
      "101 genres missing out of 317 artists\n",
      "9 genres missing after update\n"
     ]
    },
    {
     "data": {
      "application/vnd.microsoft.datawrangler.viewer.v0+json": {
       "columns": [
        {
         "name": "index",
         "rawType": "int64",
         "type": "integer"
        },
        {
         "name": "id",
         "rawType": "object",
         "type": "string"
        },
        {
         "name": "artist_name",
         "rawType": "object",
         "type": "string"
        },
        {
         "name": "followers",
         "rawType": "int64",
         "type": "integer"
        },
        {
         "name": "genres",
         "rawType": "object",
         "type": "string"
        },
        {
         "name": "popularity",
         "rawType": "int64",
         "type": "integer"
        }
       ],
       "conversionMethod": "pd.DataFrame",
       "ref": "e9996a22-5eeb-4aa1-a87c-f53b870a789d",
       "rows": [
        [
         "0",
         "00CYRdkMnA0mwfy1VQPA7X",
         "ellis",
         "42857",
         "future house",
         "46"
        ],
        [
         "1",
         "2f9PTWJfMMDTAFZcvHy1Z5",
         "OVERWERK",
         "143567",
         "electronic",
         "45"
        ],
        [
         "2",
         "6UocZe4AprSYBvmn3J0oqY",
         "Shiny Toy Guns",
         "131298",
         "electronic rock",
         "42"
        ],
        [
         "3",
         "3gk0OYeLFWYupGFRHqLSR7",
         "Showtek",
         "483101",
         "hardstyle",
         "62"
        ],
        [
         "4",
         "5jdbH48Rcr1jvVSVG0osQK",
         "DNVR",
         "4687",
         "bass house",
         "26"
        ]
       ],
       "shape": {
        "columns": 5,
        "rows": 5
       }
      },
      "text/html": [
       "<div>\n",
       "<style scoped>\n",
       "    .dataframe tbody tr th:only-of-type {\n",
       "        vertical-align: middle;\n",
       "    }\n",
       "\n",
       "    .dataframe tbody tr th {\n",
       "        vertical-align: top;\n",
       "    }\n",
       "\n",
       "    .dataframe thead th {\n",
       "        text-align: right;\n",
       "    }\n",
       "</style>\n",
       "<table border=\"1\" class=\"dataframe\">\n",
       "  <thead>\n",
       "    <tr style=\"text-align: right;\">\n",
       "      <th></th>\n",
       "      <th>id</th>\n",
       "      <th>artist_name</th>\n",
       "      <th>followers</th>\n",
       "      <th>genres</th>\n",
       "      <th>popularity</th>\n",
       "    </tr>\n",
       "  </thead>\n",
       "  <tbody>\n",
       "    <tr>\n",
       "      <th>0</th>\n",
       "      <td>00CYRdkMnA0mwfy1VQPA7X</td>\n",
       "      <td>ellis</td>\n",
       "      <td>42857</td>\n",
       "      <td>future house</td>\n",
       "      <td>46</td>\n",
       "    </tr>\n",
       "    <tr>\n",
       "      <th>1</th>\n",
       "      <td>2f9PTWJfMMDTAFZcvHy1Z5</td>\n",
       "      <td>OVERWERK</td>\n",
       "      <td>143567</td>\n",
       "      <td>electronic</td>\n",
       "      <td>45</td>\n",
       "    </tr>\n",
       "    <tr>\n",
       "      <th>2</th>\n",
       "      <td>6UocZe4AprSYBvmn3J0oqY</td>\n",
       "      <td>Shiny Toy Guns</td>\n",
       "      <td>131298</td>\n",
       "      <td>electronic rock</td>\n",
       "      <td>42</td>\n",
       "    </tr>\n",
       "    <tr>\n",
       "      <th>3</th>\n",
       "      <td>3gk0OYeLFWYupGFRHqLSR7</td>\n",
       "      <td>Showtek</td>\n",
       "      <td>483101</td>\n",
       "      <td>hardstyle</td>\n",
       "      <td>62</td>\n",
       "    </tr>\n",
       "    <tr>\n",
       "      <th>4</th>\n",
       "      <td>5jdbH48Rcr1jvVSVG0osQK</td>\n",
       "      <td>DNVR</td>\n",
       "      <td>4687</td>\n",
       "      <td>bass house</td>\n",
       "      <td>26</td>\n",
       "    </tr>\n",
       "  </tbody>\n",
       "</table>\n",
       "</div>"
      ],
      "text/plain": [
       "                       id     artist_name  followers           genres  \\\n",
       "0  00CYRdkMnA0mwfy1VQPA7X           ellis      42857     future house   \n",
       "1  2f9PTWJfMMDTAFZcvHy1Z5        OVERWERK     143567       electronic   \n",
       "2  6UocZe4AprSYBvmn3J0oqY  Shiny Toy Guns     131298  electronic rock   \n",
       "3  3gk0OYeLFWYupGFRHqLSR7         Showtek     483101        hardstyle   \n",
       "4  5jdbH48Rcr1jvVSVG0osQK            DNVR       4687       bass house   \n",
       "\n",
       "   popularity  \n",
       "0          46  \n",
       "1          45  \n",
       "2          42  \n",
       "3          62  \n",
       "4          26  "
      ]
     },
     "execution_count": 154,
     "metadata": {},
     "output_type": "execute_result"
    }
   ],
   "source": [
    "# Get Artists data\n",
    "artists_df = pd.read_csv('artists.csv')\n",
    "\n",
    "# Handle missing genres by updating with missing genres from artists_missing_genres.csv\n",
    "# Identify missing genres\n",
    "na_genres_df = artists_df[artists_df['genres'].isna()]\n",
    "print(f'{len(na_genres_df)} genres missing out of {len(artists_df)} artists')\n",
    "# Update missing genres\n",
    "missing_genres_df = pd.read_csv('artists_missing_genres.csv')\n",
    "artists_merged_df = pd.merge(artists_df, missing_genres_df[['id', 'genres']], on='id', how='left')\n",
    "artists_df['genres'] = artists_df['genres'].fillna(artists_merged_df['genres_y'])\n",
    "\n",
    "# Clean genre strings\n",
    "artists_df['genres'] = [g.lower().replace('-',' ') if not isinstance(g, float) else g for g in artists_df['genres']]\n",
    "print(f'{len(artists_df[artists_df['genres'].isna()])} genres missing after update')\n",
    "\n",
    "# # Identify artists with unique genres to check for inaccuracies\n",
    "# genre_counts = artists_df['genres'].value_counts()\n",
    "# unique_genres = artists_df[artists_df['genres'].isin(genre_counts[genre_counts == 1].index)]\n",
    "# unique_genres.sort_values(by='genres')\n",
    "# artists_df[artists_df['genres'].astype(str).str.contains('seen live', na=False)]\n",
    "\n",
    "corrected_genres = {\n",
    "    'Saweetie': 'hip hop',\n",
    "    'Vana': 'pop metal',\n",
    "    'FWLR': 'bass house',\n",
    "    'gladde paling': 'memetechno',\n",
    "    'ShogunF': 'electronic',\n",
    "    'Garrett Williamson': 'video game music',\n",
    "    'WHIPPED CREAM': 'edm',\n",
    "    'Remi Wolf': 'indie pop',\n",
    "    'Daisy Grenade': 'pop punk',\n",
    "    'Reneé Rap': 'pop',\n",
    "    'Wildermiss': 'indie',\n",
    "    'Aziya': 'indie pop'\n",
    "\n",
    "}\n",
    "\n",
    "corrected_genres_df = pd.DataFrame.from_dict(corrected_genres, orient='index', columns=['genres'])\n",
    "corrected_genres_df  = corrected_genres_df.reset_index(names='artist_name')\n",
    "artists_merged_df_2 = artists_df.merge(corrected_genres_df, on='artist_name', how='left')\n",
    "artists_merged_df_2['genres_y'] = artists_merged_df_2['genres_y'].fillna(artists_merged_df_2['genres_x'])\n",
    "artists_df['genres'] = artists_merged_df_2['genres_y']\n",
    "\n",
    "# # Handle remaining null values\n",
    "artists_df['genres'] = artists_df['genres'].fillna('unknown')\n",
    "artists_df.head()\n"
   ]
  },
  {
   "cell_type": "code",
   "execution_count": 3,
   "metadata": {},
   "outputs": [
    {
     "name": "stderr",
     "output_type": "stream",
     "text": [
      "C:\\Users\\ledge\\AppData\\Local\\Temp\\ipykernel_26864\\2420622140.py:7: UserWarning: Converting to PeriodArray/Index representation will drop timezone information.\n",
      "  tracks_df['added_at_month'] = tracks_df['added_at'].dt.to_period('M')\n"
     ]
    },
    {
     "data": {
      "application/vnd.microsoft.datawrangler.viewer.v0+json": {
       "columns": [
        {
         "name": "index",
         "rawType": "int64",
         "type": "integer"
        },
        {
         "name": "added_at",
         "rawType": "datetime64[ns, US/Pacific]",
         "type": "unknown"
        },
        {
         "name": "track_id",
         "rawType": "object",
         "type": "string"
        },
        {
         "name": "track_name",
         "rawType": "object",
         "type": "string"
        },
        {
         "name": "artist_id",
         "rawType": "object",
         "type": "string"
        },
        {
         "name": "artist_name",
         "rawType": "object",
         "type": "string"
        },
        {
         "name": "duration",
         "rawType": "int64",
         "type": "integer"
        },
        {
         "name": "explicit",
         "rawType": "bool",
         "type": "boolean"
        },
        {
         "name": "popularity",
         "rawType": "int64",
         "type": "integer"
        },
        {
         "name": "album_type",
         "rawType": "object",
         "type": "string"
        },
        {
         "name": "album_id",
         "rawType": "object",
         "type": "string"
        },
        {
         "name": "album_name",
         "rawType": "object",
         "type": "string"
        },
        {
         "name": "album_release_date",
         "rawType": "datetime64[ns, UTC]",
         "type": "unknown"
        },
        {
         "name": "added_at_date",
         "rawType": "object",
         "type": "unknown"
        },
        {
         "name": "added_at_month",
         "rawType": "period[M]",
         "type": "unknown"
        },
        {
         "name": "added_at_time",
         "rawType": "int32",
         "type": "integer"
        },
        {
         "name": "added_at_dow_val",
         "rawType": "int32",
         "type": "integer"
        },
        {
         "name": "added_at_dow_name",
         "rawType": "object",
         "type": "string"
        },
        {
         "name": "release_dow_val",
         "rawType": "int32",
         "type": "integer"
        },
        {
         "name": "release_dow_name",
         "rawType": "object",
         "type": "string"
        },
        {
         "name": "release_year",
         "rawType": "int32",
         "type": "integer"
        },
        {
         "name": "release_add_delta",
         "rawType": "float64",
         "type": "float"
        }
       ],
       "conversionMethod": "pd.DataFrame",
       "ref": "a6b7e696-9f4e-4e31-9d10-6f3c7a6cbee8",
       "rows": [
        [
         "0",
         "2025-03-04 15:34:01-08:00",
         "6ZRxnIHvjN0qTVRwz3PLtO",
         "Smells Blood",
         "4L0gz16xuM1as1OgYzh1SR",
         "Kensuke Ushio",
         "109280",
         "False",
         "56",
         "album",
         "05xPgo0O1tujgg6eDzIfxV",
         "DEVILMAN crybaby (Original Soundtrack)",
         "2018-01-10 00:00:00+00:00",
         "2025-03-04",
         "2025-03",
         "15",
         "1",
         "Tuesday",
         "2",
         "Wednesday",
         "2018",
         "2611.0"
        ],
        [
         "1",
         "2025-03-04 10:52:29-08:00",
         "4rk94uEZLJftdhnjp4Hwsx",
         "Conflict",
         "1ldNdtZX38LAsOk0ciLvb2",
         "F.O.O.L",
         "187527",
         "False",
         "32",
         "single",
         "6z5absG3SjLYPN8AhVcO0e",
         "Revenger",
         "2020-04-06 00:00:00+00:00",
         "2025-03-04",
         "2025-03",
         "10",
         "1",
         "Tuesday",
         "0",
         "Monday",
         "2020",
         "1794.0"
        ],
        [
         "2",
         "2025-03-04 10:47:34-08:00",
         "0Obvb0dyqdOPyjWJJKMniU",
         "Window Shop",
         "7fVp0A6oCMfiQJihMnY0SZ",
         "KNOWER",
         "175208",
         "False",
         "29",
         "album",
         "7o5y1ttfkpL6zf6P2uCYPQ",
         "Louis Cole and Genevieve Artadi",
         "2010-10-01 00:00:00+00:00",
         "2025-03-04",
         "2025-03",
         "10",
         "1",
         "Tuesday",
         "4",
         "Friday",
         "2010",
         "5269.0"
        ],
        [
         "3",
         "2025-03-04 10:01:50-08:00",
         "4MqJUXLycUCczH67JE06TA",
         "Selecta 40'",
         "7wXSDFysHTrrNetXFfvTsF",
         "NØKK",
         "229714",
         "False",
         "8",
         "single",
         "3g3pfrt11jiC09HSLZKLBK",
         "Selecta 40'",
         "2024-05-17 00:00:00+00:00",
         "2025-03-04",
         "2025-03",
         "10",
         "1",
         "Tuesday",
         "4",
         "Friday",
         "2024",
         "292.0"
        ],
        [
         "4",
         "2025-03-03 09:04:51-08:00",
         "1zhvxTuSha22nsUT5Nw8gE",
         "15 Minutes",
         "74KM79TiuVKeVCqs8QtB0B",
         "Sabrina Carpenter",
         "191519",
         "True",
         "79",
         "album",
         "3WzBIQmn2hrulLeTY9smkk",
         "Short n' Sweet (Deluxe)",
         "2025-02-14 00:00:00+00:00",
         "2025-03-03",
         "2025-03",
         "9",
         "0",
         "Monday",
         "4",
         "Friday",
         "2025",
         "18.0"
        ]
       ],
       "shape": {
        "columns": 21,
        "rows": 5
       }
      },
      "text/html": [
       "<div>\n",
       "<style scoped>\n",
       "    .dataframe tbody tr th:only-of-type {\n",
       "        vertical-align: middle;\n",
       "    }\n",
       "\n",
       "    .dataframe tbody tr th {\n",
       "        vertical-align: top;\n",
       "    }\n",
       "\n",
       "    .dataframe thead th {\n",
       "        text-align: right;\n",
       "    }\n",
       "</style>\n",
       "<table border=\"1\" class=\"dataframe\">\n",
       "  <thead>\n",
       "    <tr style=\"text-align: right;\">\n",
       "      <th></th>\n",
       "      <th>added_at</th>\n",
       "      <th>track_id</th>\n",
       "      <th>track_name</th>\n",
       "      <th>artist_id</th>\n",
       "      <th>artist_name</th>\n",
       "      <th>duration</th>\n",
       "      <th>explicit</th>\n",
       "      <th>popularity</th>\n",
       "      <th>album_type</th>\n",
       "      <th>album_id</th>\n",
       "      <th>...</th>\n",
       "      <th>album_release_date</th>\n",
       "      <th>added_at_date</th>\n",
       "      <th>added_at_month</th>\n",
       "      <th>added_at_time</th>\n",
       "      <th>added_at_dow_val</th>\n",
       "      <th>added_at_dow_name</th>\n",
       "      <th>release_dow_val</th>\n",
       "      <th>release_dow_name</th>\n",
       "      <th>release_year</th>\n",
       "      <th>release_add_delta</th>\n",
       "    </tr>\n",
       "  </thead>\n",
       "  <tbody>\n",
       "    <tr>\n",
       "      <th>0</th>\n",
       "      <td>2025-03-04 15:34:01-08:00</td>\n",
       "      <td>6ZRxnIHvjN0qTVRwz3PLtO</td>\n",
       "      <td>Smells Blood</td>\n",
       "      <td>4L0gz16xuM1as1OgYzh1SR</td>\n",
       "      <td>Kensuke Ushio</td>\n",
       "      <td>109280</td>\n",
       "      <td>False</td>\n",
       "      <td>56</td>\n",
       "      <td>album</td>\n",
       "      <td>05xPgo0O1tujgg6eDzIfxV</td>\n",
       "      <td>...</td>\n",
       "      <td>2018-01-10 00:00:00+00:00</td>\n",
       "      <td>2025-03-04</td>\n",
       "      <td>2025-03</td>\n",
       "      <td>15</td>\n",
       "      <td>1</td>\n",
       "      <td>Tuesday</td>\n",
       "      <td>2</td>\n",
       "      <td>Wednesday</td>\n",
       "      <td>2018</td>\n",
       "      <td>2611.0</td>\n",
       "    </tr>\n",
       "    <tr>\n",
       "      <th>1</th>\n",
       "      <td>2025-03-04 10:52:29-08:00</td>\n",
       "      <td>4rk94uEZLJftdhnjp4Hwsx</td>\n",
       "      <td>Conflict</td>\n",
       "      <td>1ldNdtZX38LAsOk0ciLvb2</td>\n",
       "      <td>F.O.O.L</td>\n",
       "      <td>187527</td>\n",
       "      <td>False</td>\n",
       "      <td>32</td>\n",
       "      <td>single</td>\n",
       "      <td>6z5absG3SjLYPN8AhVcO0e</td>\n",
       "      <td>...</td>\n",
       "      <td>2020-04-06 00:00:00+00:00</td>\n",
       "      <td>2025-03-04</td>\n",
       "      <td>2025-03</td>\n",
       "      <td>10</td>\n",
       "      <td>1</td>\n",
       "      <td>Tuesday</td>\n",
       "      <td>0</td>\n",
       "      <td>Monday</td>\n",
       "      <td>2020</td>\n",
       "      <td>1794.0</td>\n",
       "    </tr>\n",
       "    <tr>\n",
       "      <th>2</th>\n",
       "      <td>2025-03-04 10:47:34-08:00</td>\n",
       "      <td>0Obvb0dyqdOPyjWJJKMniU</td>\n",
       "      <td>Window Shop</td>\n",
       "      <td>7fVp0A6oCMfiQJihMnY0SZ</td>\n",
       "      <td>KNOWER</td>\n",
       "      <td>175208</td>\n",
       "      <td>False</td>\n",
       "      <td>29</td>\n",
       "      <td>album</td>\n",
       "      <td>7o5y1ttfkpL6zf6P2uCYPQ</td>\n",
       "      <td>...</td>\n",
       "      <td>2010-10-01 00:00:00+00:00</td>\n",
       "      <td>2025-03-04</td>\n",
       "      <td>2025-03</td>\n",
       "      <td>10</td>\n",
       "      <td>1</td>\n",
       "      <td>Tuesday</td>\n",
       "      <td>4</td>\n",
       "      <td>Friday</td>\n",
       "      <td>2010</td>\n",
       "      <td>5269.0</td>\n",
       "    </tr>\n",
       "    <tr>\n",
       "      <th>3</th>\n",
       "      <td>2025-03-04 10:01:50-08:00</td>\n",
       "      <td>4MqJUXLycUCczH67JE06TA</td>\n",
       "      <td>Selecta 40'</td>\n",
       "      <td>7wXSDFysHTrrNetXFfvTsF</td>\n",
       "      <td>NØKK</td>\n",
       "      <td>229714</td>\n",
       "      <td>False</td>\n",
       "      <td>8</td>\n",
       "      <td>single</td>\n",
       "      <td>3g3pfrt11jiC09HSLZKLBK</td>\n",
       "      <td>...</td>\n",
       "      <td>2024-05-17 00:00:00+00:00</td>\n",
       "      <td>2025-03-04</td>\n",
       "      <td>2025-03</td>\n",
       "      <td>10</td>\n",
       "      <td>1</td>\n",
       "      <td>Tuesday</td>\n",
       "      <td>4</td>\n",
       "      <td>Friday</td>\n",
       "      <td>2024</td>\n",
       "      <td>292.0</td>\n",
       "    </tr>\n",
       "    <tr>\n",
       "      <th>4</th>\n",
       "      <td>2025-03-03 09:04:51-08:00</td>\n",
       "      <td>1zhvxTuSha22nsUT5Nw8gE</td>\n",
       "      <td>15 Minutes</td>\n",
       "      <td>74KM79TiuVKeVCqs8QtB0B</td>\n",
       "      <td>Sabrina Carpenter</td>\n",
       "      <td>191519</td>\n",
       "      <td>True</td>\n",
       "      <td>79</td>\n",
       "      <td>album</td>\n",
       "      <td>3WzBIQmn2hrulLeTY9smkk</td>\n",
       "      <td>...</td>\n",
       "      <td>2025-02-14 00:00:00+00:00</td>\n",
       "      <td>2025-03-03</td>\n",
       "      <td>2025-03</td>\n",
       "      <td>9</td>\n",
       "      <td>0</td>\n",
       "      <td>Monday</td>\n",
       "      <td>4</td>\n",
       "      <td>Friday</td>\n",
       "      <td>2025</td>\n",
       "      <td>18.0</td>\n",
       "    </tr>\n",
       "  </tbody>\n",
       "</table>\n",
       "<p>5 rows × 21 columns</p>\n",
       "</div>"
      ],
      "text/plain": [
       "                   added_at                track_id    track_name  \\\n",
       "0 2025-03-04 15:34:01-08:00  6ZRxnIHvjN0qTVRwz3PLtO  Smells Blood   \n",
       "1 2025-03-04 10:52:29-08:00  4rk94uEZLJftdhnjp4Hwsx      Conflict   \n",
       "2 2025-03-04 10:47:34-08:00  0Obvb0dyqdOPyjWJJKMniU   Window Shop   \n",
       "3 2025-03-04 10:01:50-08:00  4MqJUXLycUCczH67JE06TA   Selecta 40'   \n",
       "4 2025-03-03 09:04:51-08:00  1zhvxTuSha22nsUT5Nw8gE    15 Minutes   \n",
       "\n",
       "                artist_id        artist_name  duration  explicit  popularity  \\\n",
       "0  4L0gz16xuM1as1OgYzh1SR      Kensuke Ushio    109280     False          56   \n",
       "1  1ldNdtZX38LAsOk0ciLvb2            F.O.O.L    187527     False          32   \n",
       "2  7fVp0A6oCMfiQJihMnY0SZ             KNOWER    175208     False          29   \n",
       "3  7wXSDFysHTrrNetXFfvTsF               NØKK    229714     False           8   \n",
       "4  74KM79TiuVKeVCqs8QtB0B  Sabrina Carpenter    191519      True          79   \n",
       "\n",
       "  album_type                album_id  ...        album_release_date  \\\n",
       "0      album  05xPgo0O1tujgg6eDzIfxV  ... 2018-01-10 00:00:00+00:00   \n",
       "1     single  6z5absG3SjLYPN8AhVcO0e  ... 2020-04-06 00:00:00+00:00   \n",
       "2      album  7o5y1ttfkpL6zf6P2uCYPQ  ... 2010-10-01 00:00:00+00:00   \n",
       "3     single  3g3pfrt11jiC09HSLZKLBK  ... 2024-05-17 00:00:00+00:00   \n",
       "4      album  3WzBIQmn2hrulLeTY9smkk  ... 2025-02-14 00:00:00+00:00   \n",
       "\n",
       "  added_at_date added_at_month added_at_time  added_at_dow_val  \\\n",
       "0    2025-03-04        2025-03            15                 1   \n",
       "1    2025-03-04        2025-03            10                 1   \n",
       "2    2025-03-04        2025-03            10                 1   \n",
       "3    2025-03-04        2025-03            10                 1   \n",
       "4    2025-03-03        2025-03             9                 0   \n",
       "\n",
       "   added_at_dow_name release_dow_val  release_dow_name release_year  \\\n",
       "0            Tuesday               2         Wednesday         2018   \n",
       "1            Tuesday               0            Monday         2020   \n",
       "2            Tuesday               4            Friday         2010   \n",
       "3            Tuesday               4            Friday         2024   \n",
       "4             Monday               4            Friday         2025   \n",
       "\n",
       "   release_add_delta  \n",
       "0             2611.0  \n",
       "1             1794.0  \n",
       "2             5269.0  \n",
       "3              292.0  \n",
       "4               18.0  \n",
       "\n",
       "[5 rows x 21 columns]"
      ]
     },
     "execution_count": 3,
     "metadata": {},
     "output_type": "execute_result"
    }
   ],
   "source": [
    "# Get Tracks data\n",
    "tracks_df = pd.read_csv('tracks.csv')\n",
    "\n",
    "# Convert added at into date, time, and day of week\n",
    "tracks_df['added_at'] = pd.to_datetime(tracks_df['added_at']).dt.tz_convert('US/Pacific')\n",
    "tracks_df['added_at_date'] = tracks_df['added_at'].dt.date\n",
    "tracks_df['added_at_month'] = tracks_df['added_at'].dt.to_period('M')\n",
    "tracks_df['added_at_time'] = tracks_df['added_at'].dt.hour\n",
    "tracks_df['added_at_dow_val'] = tracks_df['added_at'].dt.dayofweek.values\n",
    "tracks_df['added_at_dow_name'] = tracks_df['added_at'].dt.day_name()\n",
    "\n",
    "# Convert release date into date\n",
    "tracks_df['album_release_date'] = pd.to_datetime(tracks_df['album_release_date'], format='mixed', utc=True)\n",
    "tracks_df['release_dow_val'] = tracks_df['album_release_date'].dt.dayofweek.values\n",
    "tracks_df['release_dow_name'] = tracks_df['album_release_date'].dt.day_name()\n",
    "tracks_df['release_year'] = tracks_df['album_release_date'].dt.year\n",
    "tracks_df['release_add_delta'] = round((tracks_df['added_at'] - tracks_df['album_release_date']).astype(np.int64) / (60 * 60 * 24 * 10**9)) # Days\n",
    "\n",
    "tracks_df.head()"
   ]
  },
  {
   "cell_type": "code",
   "execution_count": 4,
   "metadata": {},
   "outputs": [
    {
     "data": {
      "application/vnd.microsoft.datawrangler.viewer.v0+json": {
       "columns": [
        {
         "name": "index",
         "rawType": "int64",
         "type": "integer"
        },
        {
         "name": "added_at",
         "rawType": "datetime64[ns, US/Pacific]",
         "type": "unknown"
        },
        {
         "name": "track_id",
         "rawType": "object",
         "type": "string"
        },
        {
         "name": "track_name",
         "rawType": "object",
         "type": "string"
        },
        {
         "name": "artist_id",
         "rawType": "object",
         "type": "string"
        },
        {
         "name": "artist_name",
         "rawType": "object",
         "type": "string"
        },
        {
         "name": "duration",
         "rawType": "int64",
         "type": "integer"
        },
        {
         "name": "explicit",
         "rawType": "bool",
         "type": "boolean"
        },
        {
         "name": "track_popularity",
         "rawType": "int64",
         "type": "integer"
        },
        {
         "name": "album_type",
         "rawType": "object",
         "type": "string"
        },
        {
         "name": "album_id",
         "rawType": "object",
         "type": "string"
        },
        {
         "name": "album_name",
         "rawType": "object",
         "type": "string"
        },
        {
         "name": "album_release_date",
         "rawType": "datetime64[ns, UTC]",
         "type": "unknown"
        },
        {
         "name": "added_at_date",
         "rawType": "object",
         "type": "unknown"
        },
        {
         "name": "added_at_month",
         "rawType": "period[M]",
         "type": "unknown"
        },
        {
         "name": "added_at_time",
         "rawType": "int32",
         "type": "integer"
        },
        {
         "name": "added_at_dow_val",
         "rawType": "int32",
         "type": "integer"
        },
        {
         "name": "added_at_dow_name",
         "rawType": "object",
         "type": "string"
        },
        {
         "name": "release_dow_val",
         "rawType": "int32",
         "type": "integer"
        },
        {
         "name": "release_dow_name",
         "rawType": "object",
         "type": "string"
        },
        {
         "name": "release_year",
         "rawType": "int32",
         "type": "integer"
        },
        {
         "name": "release_add_delta",
         "rawType": "float64",
         "type": "float"
        },
        {
         "name": "artist_followers",
         "rawType": "int64",
         "type": "integer"
        },
        {
         "name": "genres",
         "rawType": "object",
         "type": "string"
        },
        {
         "name": "artist_popularity",
         "rawType": "int64",
         "type": "integer"
        }
       ],
       "conversionMethod": "pd.DataFrame",
       "ref": "d62866c2-195f-4fc8-8dec-670d408d0c15",
       "rows": [
        [
         "0",
         "2025-03-04 15:34:01-08:00",
         "6ZRxnIHvjN0qTVRwz3PLtO",
         "Smells Blood",
         "4L0gz16xuM1as1OgYzh1SR",
         "Kensuke Ushio",
         "109280",
         "False",
         "56",
         "album",
         "05xPgo0O1tujgg6eDzIfxV",
         "DEVILMAN crybaby (Original Soundtrack)",
         "2018-01-10 00:00:00+00:00",
         "2025-03-04",
         "2025-03",
         "15",
         "1",
         "Tuesday",
         "2",
         "Wednesday",
         "2018",
         "2611.0",
         "138638",
         "anime",
         "57"
        ],
        [
         "1",
         "2025-03-04 10:52:29-08:00",
         "4rk94uEZLJftdhnjp4Hwsx",
         "Conflict",
         "1ldNdtZX38LAsOk0ciLvb2",
         "F.O.O.L",
         "187527",
         "False",
         "32",
         "single",
         "6z5absG3SjLYPN8AhVcO0e",
         "Revenger",
         "2020-04-06 00:00:00+00:00",
         "2025-03-04",
         "2025-03",
         "10",
         "1",
         "Tuesday",
         "0",
         "Monday",
         "2020",
         "1794.0",
         "88300",
         "synthwave",
         "46"
        ],
        [
         "2",
         "2025-03-04 10:47:34-08:00",
         "0Obvb0dyqdOPyjWJJKMniU",
         "Window Shop",
         "7fVp0A6oCMfiQJihMnY0SZ",
         "KNOWER",
         "175208",
         "False",
         "29",
         "album",
         "7o5y1ttfkpL6zf6P2uCYPQ",
         "Louis Cole and Genevieve Artadi",
         "2010-10-01 00:00:00+00:00",
         "2025-03-04",
         "2025-03",
         "10",
         "1",
         "Tuesday",
         "4",
         "Friday",
         "2010",
         "5269.0",
         "141041",
         "experimental",
         "41"
        ],
        [
         "3",
         "2025-03-04 10:01:50-08:00",
         "4MqJUXLycUCczH67JE06TA",
         "Selecta 40'",
         "7wXSDFysHTrrNetXFfvTsF",
         "NØKK",
         "229714",
         "False",
         "8",
         "single",
         "3g3pfrt11jiC09HSLZKLBK",
         "Selecta 40'",
         "2024-05-17 00:00:00+00:00",
         "2025-03-04",
         "2025-03",
         "10",
         "1",
         "Tuesday",
         "4",
         "Friday",
         "2024",
         "292.0",
         "247",
         "uk garage",
         "7"
        ],
        [
         "4",
         "2025-03-03 09:04:51-08:00",
         "1zhvxTuSha22nsUT5Nw8gE",
         "15 Minutes",
         "74KM79TiuVKeVCqs8QtB0B",
         "Sabrina Carpenter",
         "191519",
         "True",
         "79",
         "album",
         "3WzBIQmn2hrulLeTY9smkk",
         "Short n' Sweet (Deluxe)",
         "2025-02-14 00:00:00+00:00",
         "2025-03-03",
         "2025-03",
         "9",
         "0",
         "Monday",
         "4",
         "Friday",
         "2025",
         "18.0",
         "20013528",
         "pop",
         "91"
        ]
       ],
       "shape": {
        "columns": 24,
        "rows": 5
       }
      },
      "text/html": [
       "<div>\n",
       "<style scoped>\n",
       "    .dataframe tbody tr th:only-of-type {\n",
       "        vertical-align: middle;\n",
       "    }\n",
       "\n",
       "    .dataframe tbody tr th {\n",
       "        vertical-align: top;\n",
       "    }\n",
       "\n",
       "    .dataframe thead th {\n",
       "        text-align: right;\n",
       "    }\n",
       "</style>\n",
       "<table border=\"1\" class=\"dataframe\">\n",
       "  <thead>\n",
       "    <tr style=\"text-align: right;\">\n",
       "      <th></th>\n",
       "      <th>added_at</th>\n",
       "      <th>track_id</th>\n",
       "      <th>track_name</th>\n",
       "      <th>artist_id</th>\n",
       "      <th>artist_name</th>\n",
       "      <th>duration</th>\n",
       "      <th>explicit</th>\n",
       "      <th>track_popularity</th>\n",
       "      <th>album_type</th>\n",
       "      <th>album_id</th>\n",
       "      <th>...</th>\n",
       "      <th>added_at_time</th>\n",
       "      <th>added_at_dow_val</th>\n",
       "      <th>added_at_dow_name</th>\n",
       "      <th>release_dow_val</th>\n",
       "      <th>release_dow_name</th>\n",
       "      <th>release_year</th>\n",
       "      <th>release_add_delta</th>\n",
       "      <th>artist_followers</th>\n",
       "      <th>genres</th>\n",
       "      <th>artist_popularity</th>\n",
       "    </tr>\n",
       "  </thead>\n",
       "  <tbody>\n",
       "    <tr>\n",
       "      <th>0</th>\n",
       "      <td>2025-03-04 15:34:01-08:00</td>\n",
       "      <td>6ZRxnIHvjN0qTVRwz3PLtO</td>\n",
       "      <td>Smells Blood</td>\n",
       "      <td>4L0gz16xuM1as1OgYzh1SR</td>\n",
       "      <td>Kensuke Ushio</td>\n",
       "      <td>109280</td>\n",
       "      <td>False</td>\n",
       "      <td>56</td>\n",
       "      <td>album</td>\n",
       "      <td>05xPgo0O1tujgg6eDzIfxV</td>\n",
       "      <td>...</td>\n",
       "      <td>15</td>\n",
       "      <td>1</td>\n",
       "      <td>Tuesday</td>\n",
       "      <td>2</td>\n",
       "      <td>Wednesday</td>\n",
       "      <td>2018</td>\n",
       "      <td>2611.0</td>\n",
       "      <td>138638</td>\n",
       "      <td>anime</td>\n",
       "      <td>57</td>\n",
       "    </tr>\n",
       "    <tr>\n",
       "      <th>1</th>\n",
       "      <td>2025-03-04 10:52:29-08:00</td>\n",
       "      <td>4rk94uEZLJftdhnjp4Hwsx</td>\n",
       "      <td>Conflict</td>\n",
       "      <td>1ldNdtZX38LAsOk0ciLvb2</td>\n",
       "      <td>F.O.O.L</td>\n",
       "      <td>187527</td>\n",
       "      <td>False</td>\n",
       "      <td>32</td>\n",
       "      <td>single</td>\n",
       "      <td>6z5absG3SjLYPN8AhVcO0e</td>\n",
       "      <td>...</td>\n",
       "      <td>10</td>\n",
       "      <td>1</td>\n",
       "      <td>Tuesday</td>\n",
       "      <td>0</td>\n",
       "      <td>Monday</td>\n",
       "      <td>2020</td>\n",
       "      <td>1794.0</td>\n",
       "      <td>88300</td>\n",
       "      <td>synthwave</td>\n",
       "      <td>46</td>\n",
       "    </tr>\n",
       "    <tr>\n",
       "      <th>2</th>\n",
       "      <td>2025-03-04 10:47:34-08:00</td>\n",
       "      <td>0Obvb0dyqdOPyjWJJKMniU</td>\n",
       "      <td>Window Shop</td>\n",
       "      <td>7fVp0A6oCMfiQJihMnY0SZ</td>\n",
       "      <td>KNOWER</td>\n",
       "      <td>175208</td>\n",
       "      <td>False</td>\n",
       "      <td>29</td>\n",
       "      <td>album</td>\n",
       "      <td>7o5y1ttfkpL6zf6P2uCYPQ</td>\n",
       "      <td>...</td>\n",
       "      <td>10</td>\n",
       "      <td>1</td>\n",
       "      <td>Tuesday</td>\n",
       "      <td>4</td>\n",
       "      <td>Friday</td>\n",
       "      <td>2010</td>\n",
       "      <td>5269.0</td>\n",
       "      <td>141041</td>\n",
       "      <td>experimental</td>\n",
       "      <td>41</td>\n",
       "    </tr>\n",
       "    <tr>\n",
       "      <th>3</th>\n",
       "      <td>2025-03-04 10:01:50-08:00</td>\n",
       "      <td>4MqJUXLycUCczH67JE06TA</td>\n",
       "      <td>Selecta 40'</td>\n",
       "      <td>7wXSDFysHTrrNetXFfvTsF</td>\n",
       "      <td>NØKK</td>\n",
       "      <td>229714</td>\n",
       "      <td>False</td>\n",
       "      <td>8</td>\n",
       "      <td>single</td>\n",
       "      <td>3g3pfrt11jiC09HSLZKLBK</td>\n",
       "      <td>...</td>\n",
       "      <td>10</td>\n",
       "      <td>1</td>\n",
       "      <td>Tuesday</td>\n",
       "      <td>4</td>\n",
       "      <td>Friday</td>\n",
       "      <td>2024</td>\n",
       "      <td>292.0</td>\n",
       "      <td>247</td>\n",
       "      <td>uk garage</td>\n",
       "      <td>7</td>\n",
       "    </tr>\n",
       "    <tr>\n",
       "      <th>4</th>\n",
       "      <td>2025-03-03 09:04:51-08:00</td>\n",
       "      <td>1zhvxTuSha22nsUT5Nw8gE</td>\n",
       "      <td>15 Minutes</td>\n",
       "      <td>74KM79TiuVKeVCqs8QtB0B</td>\n",
       "      <td>Sabrina Carpenter</td>\n",
       "      <td>191519</td>\n",
       "      <td>True</td>\n",
       "      <td>79</td>\n",
       "      <td>album</td>\n",
       "      <td>3WzBIQmn2hrulLeTY9smkk</td>\n",
       "      <td>...</td>\n",
       "      <td>9</td>\n",
       "      <td>0</td>\n",
       "      <td>Monday</td>\n",
       "      <td>4</td>\n",
       "      <td>Friday</td>\n",
       "      <td>2025</td>\n",
       "      <td>18.0</td>\n",
       "      <td>20013528</td>\n",
       "      <td>pop</td>\n",
       "      <td>91</td>\n",
       "    </tr>\n",
       "  </tbody>\n",
       "</table>\n",
       "<p>5 rows × 24 columns</p>\n",
       "</div>"
      ],
      "text/plain": [
       "                   added_at                track_id    track_name  \\\n",
       "0 2025-03-04 15:34:01-08:00  6ZRxnIHvjN0qTVRwz3PLtO  Smells Blood   \n",
       "1 2025-03-04 10:52:29-08:00  4rk94uEZLJftdhnjp4Hwsx      Conflict   \n",
       "2 2025-03-04 10:47:34-08:00  0Obvb0dyqdOPyjWJJKMniU   Window Shop   \n",
       "3 2025-03-04 10:01:50-08:00  4MqJUXLycUCczH67JE06TA   Selecta 40'   \n",
       "4 2025-03-03 09:04:51-08:00  1zhvxTuSha22nsUT5Nw8gE    15 Minutes   \n",
       "\n",
       "                artist_id        artist_name  duration  explicit  \\\n",
       "0  4L0gz16xuM1as1OgYzh1SR      Kensuke Ushio    109280     False   \n",
       "1  1ldNdtZX38LAsOk0ciLvb2            F.O.O.L    187527     False   \n",
       "2  7fVp0A6oCMfiQJihMnY0SZ             KNOWER    175208     False   \n",
       "3  7wXSDFysHTrrNetXFfvTsF               NØKK    229714     False   \n",
       "4  74KM79TiuVKeVCqs8QtB0B  Sabrina Carpenter    191519      True   \n",
       "\n",
       "   track_popularity album_type                album_id  ... added_at_time  \\\n",
       "0                56      album  05xPgo0O1tujgg6eDzIfxV  ...            15   \n",
       "1                32     single  6z5absG3SjLYPN8AhVcO0e  ...            10   \n",
       "2                29      album  7o5y1ttfkpL6zf6P2uCYPQ  ...            10   \n",
       "3                 8     single  3g3pfrt11jiC09HSLZKLBK  ...            10   \n",
       "4                79      album  3WzBIQmn2hrulLeTY9smkk  ...             9   \n",
       "\n",
       "  added_at_dow_val added_at_dow_name release_dow_val  release_dow_name  \\\n",
       "0                1           Tuesday               2         Wednesday   \n",
       "1                1           Tuesday               0            Monday   \n",
       "2                1           Tuesday               4            Friday   \n",
       "3                1           Tuesday               4            Friday   \n",
       "4                0            Monday               4            Friday   \n",
       "\n",
       "   release_year release_add_delta  artist_followers        genres  \\\n",
       "0          2018            2611.0            138638         anime   \n",
       "1          2020            1794.0             88300     synthwave   \n",
       "2          2010            5269.0            141041  experimental   \n",
       "3          2024             292.0               247     uk garage   \n",
       "4          2025              18.0          20013528           pop   \n",
       "\n",
       "   artist_popularity  \n",
       "0                 57  \n",
       "1                 46  \n",
       "2                 41  \n",
       "3                  7  \n",
       "4                 91  \n",
       "\n",
       "[5 rows x 24 columns]"
      ]
     },
     "execution_count": 4,
     "metadata": {},
     "output_type": "execute_result"
    }
   ],
   "source": [
    "# merge\n",
    "artists_df= artists_df.rename(columns={'id': 'artist_id'})\n",
    "merged_df = pd.merge(tracks_df, artists_df, on='artist_id')\n",
    "\n",
    "# Clean dupicate columns\n",
    "merged_df = merged_df.rename(columns={'popularity_x': 'track_popularity', 'popularity_y': 'artist_popularity', 'followers': 'artist_followers', 'artist_name_x':'artist_name'})\n",
    "merged_df.drop(columns='artist_name_y', inplace=True)\n",
    "merged_df.head()"
   ]
  },
  {
   "cell_type": "markdown",
   "metadata": {},
   "source": [
    "## Exploratory Data Analysis"
   ]
  },
  {
   "cell_type": "code",
   "execution_count": 5,
   "metadata": {},
   "outputs": [
    {
     "data": {
      "application/vnd.microsoft.datawrangler.viewer.v0+json": {
       "columns": [
        {
         "name": "index",
         "rawType": "int64",
         "type": "integer"
        },
        {
         "name": "added_at_date",
         "rawType": "object",
         "type": "string"
        },
        {
         "name": "tracks_saved",
         "rawType": "float64",
         "type": "float"
        }
       ],
       "conversionMethod": "pd.DataFrame",
       "ref": "1b2cd571-522f-451d-b2ad-37693fb73c82",
       "rows": [
        [
         "0",
         "2024-04-27",
         "5.0"
        ],
        [
         "1",
         "2024-04-28",
         "0.0"
        ],
        [
         "2",
         "2024-04-29",
         "0.0"
        ],
        [
         "3",
         "2024-04-30",
         "1.0"
        ],
        [
         "4",
         "2024-05-01",
         "0.0"
        ]
       ],
       "shape": {
        "columns": 2,
        "rows": 5
       }
      },
      "text/html": [
       "<div>\n",
       "<style scoped>\n",
       "    .dataframe tbody tr th:only-of-type {\n",
       "        vertical-align: middle;\n",
       "    }\n",
       "\n",
       "    .dataframe tbody tr th {\n",
       "        vertical-align: top;\n",
       "    }\n",
       "\n",
       "    .dataframe thead th {\n",
       "        text-align: right;\n",
       "    }\n",
       "</style>\n",
       "<table border=\"1\" class=\"dataframe\">\n",
       "  <thead>\n",
       "    <tr style=\"text-align: right;\">\n",
       "      <th></th>\n",
       "      <th>added_at_date</th>\n",
       "      <th>tracks_saved</th>\n",
       "    </tr>\n",
       "  </thead>\n",
       "  <tbody>\n",
       "    <tr>\n",
       "      <th>0</th>\n",
       "      <td>2024-04-27</td>\n",
       "      <td>5.0</td>\n",
       "    </tr>\n",
       "    <tr>\n",
       "      <th>1</th>\n",
       "      <td>2024-04-28</td>\n",
       "      <td>0.0</td>\n",
       "    </tr>\n",
       "    <tr>\n",
       "      <th>2</th>\n",
       "      <td>2024-04-29</td>\n",
       "      <td>0.0</td>\n",
       "    </tr>\n",
       "    <tr>\n",
       "      <th>3</th>\n",
       "      <td>2024-04-30</td>\n",
       "      <td>1.0</td>\n",
       "    </tr>\n",
       "    <tr>\n",
       "      <th>4</th>\n",
       "      <td>2024-05-01</td>\n",
       "      <td>0.0</td>\n",
       "    </tr>\n",
       "  </tbody>\n",
       "</table>\n",
       "</div>"
      ],
      "text/plain": [
       "  added_at_date  tracks_saved\n",
       "0    2024-04-27           5.0\n",
       "1    2024-04-28           0.0\n",
       "2    2024-04-29           0.0\n",
       "3    2024-04-30           1.0\n",
       "4    2024-05-01           0.0"
      ]
     },
     "execution_count": 5,
     "metadata": {},
     "output_type": "execute_result"
    }
   ],
   "source": [
    "saves_by_date = merged_df.groupby(['added_at_date']).agg({'track_id': 'count'})\n",
    "saves_by_date.rename(columns={'track_id':'tracks_saved'}, inplace=True)\n",
    "saves_by_date = saves_by_date.reset_index()\n",
    "saves_by_date = saves_by_date.sort_values(by='added_at_date')\n",
    "\n",
    "start_date = saves_by_date.head(1)['added_at_date'].iloc[0]\n",
    "end_date = saves_by_date.tail(1)['added_at_date'].iloc[0]\n",
    "\n",
    "full_date_range = pd.DataFrame()\n",
    "saves_by_date['added_at_date'] = pd.to_datetime(saves_by_date['added_at_date'], utc=True).dt.tz_convert('US/Pacific')\n",
    "full_date_range['added_at_date'] = pd.date_range(start=start_date,end=end_date)\n",
    "full_date_range['added_at_date'] = pd.to_datetime(full_date_range['added_at_date'], utc=True).dt.tz_convert('US/Pacific')\n",
    "full_date_range = full_date_range.merge(saves_by_date, on='added_at_date', how='left')\n",
    "full_date_range['tracks_saved'] = full_date_range['tracks_saved'].fillna(0)\n",
    "full_date_range['added_at_date'] = full_date_range['added_at_date'].dt.strftime('%Y-%m-%d')\n",
    "full_date_range.head()"
   ]
  },
  {
   "cell_type": "code",
   "execution_count": 6,
   "metadata": {
    "slideshow": {
     "slide_type": "slide"
    }
   },
   "outputs": [
    {
     "name": "stdout",
     "output_type": "stream",
     "text": [
      "From 2024-04-27 to 2025-03-03 (311 days), I saved an average of 2 songs per day. The most songs I saved in a day was 18. Most days I save 0 songs.\n"
     ]
    }
   ],
   "source": [
    "start, end, total_days = full_date_range['added_at_date'].iloc[0], full_date_range['added_at_date'].iloc[-1], len(full_date_range)\n",
    "average, mode, max = full_date_range['tracks_saved'].mean(), full_date_range['tracks_saved'].mode().iloc[0], full_date_range['tracks_saved'].max()\n",
    "print(f'From {start} to {end} ({total_days} days), I saved an average of {int(round(average, 0))} songs per day. The most songs I saved in a day was {int(max)}. Most days I save {int(mode)} songs.')"
   ]
  },
  {
   "cell_type": "code",
   "execution_count": 7,
   "metadata": {},
   "outputs": [
    {
     "data": {
      "text/plain": [
       "tracks_saved\n",
       "0.0     155\n",
       "1.0      58\n",
       "2.0      28\n",
       "3.0      24\n",
       "4.0       6\n",
       "5.0      14\n",
       "6.0      10\n",
       "7.0       3\n",
       "8.0       3\n",
       "9.0       4\n",
       "10.0      3\n",
       "14.0      1\n",
       "17.0      1\n",
       "18.0      1\n",
       "Name: count, dtype: int64"
      ]
     },
     "execution_count": 7,
     "metadata": {},
     "output_type": "execute_result"
    }
   ],
   "source": [
    "full_date_range['tracks_saved'].describe()\n",
    "full_date_range['tracks_saved'].value_counts().sort_index()"
   ]
  },
  {
   "cell_type": "code",
   "execution_count": 149,
   "metadata": {},
   "outputs": [
    {
     "data": {
      "text/plain": [
       "([0,\n",
       "  1,\n",
       "  2,\n",
       "  3,\n",
       "  4,\n",
       "  5,\n",
       "  6,\n",
       "  7,\n",
       "  8,\n",
       "  9,\n",
       "  10,\n",
       "  11,\n",
       "  12,\n",
       "  13,\n",
       "  14,\n",
       "  15,\n",
       "  16,\n",
       "  17,\n",
       "  18,\n",
       "  19,\n",
       "  20,\n",
       "  21,\n",
       "  22,\n",
       "  23,\n",
       "  24,\n",
       "  25,\n",
       "  26,\n",
       "  27,\n",
       "  28,\n",
       "  29,\n",
       "  30,\n",
       "  31,\n",
       "  32,\n",
       "  33,\n",
       "  34,\n",
       "  35,\n",
       "  36,\n",
       "  37,\n",
       "  38,\n",
       "  39,\n",
       "  40,\n",
       "  41,\n",
       "  42,\n",
       "  43,\n",
       "  44,\n",
       "  45,\n",
       "  46,\n",
       "  47,\n",
       "  48,\n",
       "  49,\n",
       "  50,\n",
       "  51,\n",
       "  52,\n",
       "  53,\n",
       "  54,\n",
       "  55,\n",
       "  56,\n",
       "  57,\n",
       "  58,\n",
       "  59,\n",
       "  60,\n",
       "  61,\n",
       "  62,\n",
       "  63,\n",
       "  64,\n",
       "  65,\n",
       "  66,\n",
       "  67,\n",
       "  68,\n",
       "  69,\n",
       "  70,\n",
       "  71,\n",
       "  72,\n",
       "  73,\n",
       "  74,\n",
       "  75,\n",
       "  76,\n",
       "  77,\n",
       "  78,\n",
       "  79,\n",
       "  80,\n",
       "  81,\n",
       "  82,\n",
       "  83,\n",
       "  84,\n",
       "  85,\n",
       "  86,\n",
       "  87,\n",
       "  88,\n",
       "  89,\n",
       "  90,\n",
       "  91,\n",
       "  92,\n",
       "  93,\n",
       "  94,\n",
       "  95,\n",
       "  96,\n",
       "  97,\n",
       "  98,\n",
       "  99,\n",
       "  100,\n",
       "  101,\n",
       "  102,\n",
       "  103,\n",
       "  104,\n",
       "  105,\n",
       "  106,\n",
       "  107,\n",
       "  108,\n",
       "  109,\n",
       "  110,\n",
       "  111,\n",
       "  112,\n",
       "  113,\n",
       "  114,\n",
       "  115,\n",
       "  116,\n",
       "  117,\n",
       "  118,\n",
       "  119,\n",
       "  120,\n",
       "  121,\n",
       "  122,\n",
       "  123,\n",
       "  124,\n",
       "  125,\n",
       "  126,\n",
       "  127,\n",
       "  128,\n",
       "  129,\n",
       "  130,\n",
       "  131,\n",
       "  132,\n",
       "  133,\n",
       "  134,\n",
       "  135,\n",
       "  136,\n",
       "  137,\n",
       "  138,\n",
       "  139,\n",
       "  140,\n",
       "  141,\n",
       "  142,\n",
       "  143,\n",
       "  144,\n",
       "  145,\n",
       "  146,\n",
       "  147,\n",
       "  148,\n",
       "  149,\n",
       "  150,\n",
       "  151,\n",
       "  152,\n",
       "  153,\n",
       "  154,\n",
       "  155,\n",
       "  156,\n",
       "  157,\n",
       "  158,\n",
       "  159,\n",
       "  160,\n",
       "  161,\n",
       "  162,\n",
       "  163,\n",
       "  164,\n",
       "  165,\n",
       "  166,\n",
       "  167,\n",
       "  168,\n",
       "  169,\n",
       "  170,\n",
       "  171,\n",
       "  172,\n",
       "  173,\n",
       "  174,\n",
       "  175,\n",
       "  176,\n",
       "  177,\n",
       "  178,\n",
       "  179,\n",
       "  180,\n",
       "  181,\n",
       "  182,\n",
       "  183,\n",
       "  184,\n",
       "  185,\n",
       "  186,\n",
       "  187,\n",
       "  188,\n",
       "  189,\n",
       "  190,\n",
       "  191,\n",
       "  192,\n",
       "  193,\n",
       "  194,\n",
       "  195,\n",
       "  196,\n",
       "  197,\n",
       "  198,\n",
       "  199,\n",
       "  200,\n",
       "  201,\n",
       "  202,\n",
       "  203,\n",
       "  204,\n",
       "  205,\n",
       "  206,\n",
       "  207,\n",
       "  208,\n",
       "  209,\n",
       "  210,\n",
       "  211,\n",
       "  212,\n",
       "  213,\n",
       "  214,\n",
       "  215,\n",
       "  216,\n",
       "  217,\n",
       "  218,\n",
       "  219,\n",
       "  220,\n",
       "  221,\n",
       "  222,\n",
       "  223,\n",
       "  224,\n",
       "  225,\n",
       "  226,\n",
       "  227,\n",
       "  228,\n",
       "  229,\n",
       "  230,\n",
       "  231,\n",
       "  232,\n",
       "  233,\n",
       "  234,\n",
       "  235,\n",
       "  236,\n",
       "  237,\n",
       "  238,\n",
       "  239,\n",
       "  240,\n",
       "  241,\n",
       "  242,\n",
       "  243,\n",
       "  244,\n",
       "  245,\n",
       "  246,\n",
       "  247,\n",
       "  248,\n",
       "  249,\n",
       "  250,\n",
       "  251,\n",
       "  252,\n",
       "  253,\n",
       "  254,\n",
       "  255,\n",
       "  256,\n",
       "  257,\n",
       "  258,\n",
       "  259,\n",
       "  260,\n",
       "  261,\n",
       "  262,\n",
       "  263,\n",
       "  264,\n",
       "  265,\n",
       "  266,\n",
       "  267,\n",
       "  268,\n",
       "  269,\n",
       "  270,\n",
       "  271,\n",
       "  272,\n",
       "  273,\n",
       "  274,\n",
       "  275,\n",
       "  276,\n",
       "  277,\n",
       "  278,\n",
       "  279,\n",
       "  280,\n",
       "  281,\n",
       "  282,\n",
       "  283,\n",
       "  284,\n",
       "  285,\n",
       "  286,\n",
       "  287,\n",
       "  288,\n",
       "  289,\n",
       "  290,\n",
       "  291,\n",
       "  292,\n",
       "  293,\n",
       "  294,\n",
       "  295,\n",
       "  296,\n",
       "  297,\n",
       "  298,\n",
       "  299,\n",
       "  300,\n",
       "  301,\n",
       "  302,\n",
       "  303,\n",
       "  304,\n",
       "  305,\n",
       "  306,\n",
       "  307,\n",
       "  308,\n",
       "  309,\n",
       "  310],\n",
       " [Text(0, 0, '2024-04-27'),\n",
       "  Text(10, 0, '2024-05-07'),\n",
       "  Text(20, 0, '2024-05-17'),\n",
       "  Text(30, 0, '2024-05-27'),\n",
       "  Text(40, 0, '2024-06-06'),\n",
       "  Text(50, 0, '2024-06-16'),\n",
       "  Text(60, 0, '2024-06-26'),\n",
       "  Text(70, 0, '2024-07-06'),\n",
       "  Text(80, 0, '2024-07-16'),\n",
       "  Text(90, 0, '2024-07-26'),\n",
       "  Text(100, 0, '2024-08-05'),\n",
       "  Text(110, 0, '2024-08-15'),\n",
       "  Text(120, 0, '2024-08-25'),\n",
       "  Text(130, 0, '2024-09-04'),\n",
       "  Text(140, 0, '2024-09-14'),\n",
       "  Text(150, 0, '2024-09-24'),\n",
       "  Text(160, 0, '2024-10-04'),\n",
       "  Text(170, 0, '2024-10-14'),\n",
       "  Text(180, 0, '2024-10-24'),\n",
       "  Text(190, 0, '2024-11-03'),\n",
       "  Text(200, 0, '2024-11-13'),\n",
       "  Text(210, 0, '2024-11-23'),\n",
       "  Text(220, 0, '2024-12-03'),\n",
       "  Text(230, 0, '2024-12-13'),\n",
       "  Text(240, 0, '2024-12-23'),\n",
       "  Text(250, 0, '2025-01-02'),\n",
       "  Text(260, 0, '2025-01-12'),\n",
       "  Text(270, 0, '2025-01-22'),\n",
       "  Text(280, 0, '2025-02-01'),\n",
       "  Text(290, 0, '2025-02-11'),\n",
       "  Text(300, 0, '2025-02-21'),\n",
       "  Text(310, 0, '2025-03-03')])"
      ]
     },
     "execution_count": 149,
     "metadata": {},
     "output_type": "execute_result"
    },
    {
     "data": {
      "image/png": "[encoded data removed]",
      "text/plain": [
       "<Figure size 2500x1000 with 1 Axes>"
      ]
     },
     "metadata": {
      "needs_background": "dark"
     },
     "output_type": "display_data"
    }
   ],
   "source": [
    "import matplotlib.dates as mdates\n",
    "full_date_range['above_avg'] = full_date_range['tracks_saved'] > average\n",
    "plt.figure(figsize=(25,10))\n",
    "a =sns.barplot(full_date_range, x='added_at_date', y='tracks_saved', width=1, color='#28ae80')\n",
    "a.figure.patch.set_alpha(0)  # Figure background\n",
    "a.set_facecolor('none')  # Axes background\n",
    "\n",
    "plt.yticks(color='white')\n",
    "plt.xlabel('Added at Date', color='white')\n",
    "plt.ylabel('# of Saves', color='white')\n",
    "for ind, label in enumerate(a.get_xticklabels()):\n",
    "    if ind % 10 == 0:  # every 10th label is kept\n",
    "        label.set_visible(True)\n",
    "    else:\n",
    "        label.set_visible(False)\n",
    "plt.xticks(color='white', rotation=45)\n",
    "# sns.scatterplot(merged_df, x='added_at_date', y='added_at_time')"
   ]
  },
  {
   "cell_type": "code",
   "execution_count": 9,
   "metadata": {
    "slideshow": {
     "slide_type": "slide"
    }
   },
   "outputs": [
    {
     "name": "stdout",
     "output_type": "stream",
     "text": [
      "My top three months for saving new music were:\n",
      "1. August with 109 songs\n",
      "2. October with 65 songs\n",
      "3. June with 65 songs\n"
     ]
    }
   ],
   "source": [
    "month_counts = merged_df['added_at_month'].value_counts()\n",
    "print(f'My top three months for saving new music were:')\n",
    "for i in range(3):\n",
    "    print(f'{i+1}. {month_counts.index[i].strftime('%B')} with {month_counts.iloc[i]} songs')"
   ]
  },
  {
   "cell_type": "code",
   "execution_count": 10,
   "metadata": {
    "slideshow": {
     "slide_type": "slide"
    }
   },
   "outputs": [
    {
     "name": "stdout",
     "output_type": "stream",
     "text": [
      "Top 5 genres:\n",
      "1. dubstep\n",
      "2. breakcore\n",
      "3. electronic\n",
      "4. drum and bass\n",
      "5. pop\n"
     ]
    }
   ],
   "source": [
    "genre_counts = merged_df['genres'].value_counts()\n",
    "print(f'Top 5 genres:')\n",
    "for i in range(5):\n",
    "    print(f'{i+1}. {genre_counts.index[i]}')"
   ]
  },
  {
   "cell_type": "code",
   "execution_count": 11,
   "metadata": {
    "slideshow": {
     "slide_type": "slide"
    }
   },
   "outputs": [
    {
     "name": "stdout",
     "output_type": "stream",
     "text": [
      "Top 5 artists:\n",
      "1. Virtual Riot\n",
      "2. REAPER\n",
      "3. Charli xcx\n",
      "4. Rezz\n",
      "5. Chappell Roan\n"
     ]
    }
   ],
   "source": [
    "artist_counts = merged_df['artist_name'].value_counts()\n",
    "print(f'Top 5 artists:')\n",
    "for i in range(5):\n",
    "    print(f'{i+1}. {artist_counts.index[i]}')"
   ]
  },
  {
   "cell_type": "code",
   "execution_count": 12,
   "metadata": {
    "slideshow": {
     "slide_type": "slide"
    }
   },
   "outputs": [
    {
     "name": "stdout",
     "output_type": "stream",
     "text": [
      "The top three days I save new music are:\n",
      "1. Wednesday with 100 songs\n",
      "2. Friday with 81 songs\n",
      "3. Thursday with 79 songs\n"
     ]
    }
   ],
   "source": [
    "weekly_saves_df = merged_df.groupby(['added_at_dow_val']).aggregate({'track_id': 'count', 'added_at_dow_name': 'first' }).sort_values(by='track_id', ascending=False).reset_index()\n",
    "print(f'The top three days I save new music are:')\n",
    "for i in range(3):\n",
    "    print(f'{i+1}. {weekly_saves_df.iloc[i, 2]} with {weekly_saves_df.iloc[i, 1]} songs')"
   ]
  },
  {
   "cell_type": "code",
   "execution_count": 13,
   "metadata": {
    "slideshow": {
     "slide_type": "slide"
    }
   },
   "outputs": [
    {
     "data": {
      "image/png": "[encoded data removed]",
      "text/plain": [
       "<Figure size 600x700 with 7 Axes>"
      ]
     },
     "metadata": {
      "needs_background": "dark"
     },
     "output_type": "display_data"
    }
   ],
   "source": [
    "\n",
    "pal = sns.color_palette(\"viridis\", 7)\n",
    "g = sns.FacetGrid(tracks_df.sort_values(by='added_at_dow_val'), row=\"added_at_dow_name\", hue=\"added_at_dow_val\", aspect=6, height=1,palette=pal)\n",
    "g.set_titles(\"\")\n",
    "# g.figure.subplots_adjust(left=0.08)  # Adjust this value as needed\n",
    "g.map(sns.histplot, \"added_at_time\", binwidth=1, alpha=1)\n",
    "g.refline(y=0, linewidth=2, linestyle=\"-\", color=None, clip_on=False)\n",
    "g.set(xlim=(5, 24), ylim=(0, 21))\n",
    "plt.xticks(np.arange(5, 24, 1), color='white')\n",
    "g.set(yticks=[], ylabel=\"\")\n",
    "g.set_ylabels(color='white')\n",
    "g.set_xlabels('Hour of Day', color='white')\n",
    "\n",
    "for ax, title in zip(g.axes[:, 0], g.row_names):\n",
    "    ax.annotate(\n",
    "        title, xy=(-0.03, 0.), xycoords=\"axes fraction\",  \n",
    "        ha=\"right\", va=\"center\", fontsize=12, color=\"white\",\n",
    "        rotation=0\n",
    "    )\n",
    "\n",
    "# Set transparent background\n",
    "g.figure.patch.set_alpha(0)  # Figure background\n",
    "\n",
    "for ax in g.axes.flat:\n",
    "    ax.set_facecolor(\"none\")  # Axes background\n",
    "    ax.grid(False)\n",
    "g.despine()\n",
    "g.tight_layout()\n",
    "plt.show()"
   ]
  },
  {
   "cell_type": "code",
   "execution_count": 75,
   "metadata": {},
   "outputs": [
    {
     "name": "stdout",
     "output_type": "stream",
     "text": [
      "I saved music ranging from 1985 to 2025. The most common release year I saved was 2024.\n"
     ]
    },
    {
     "data": {
      "image/png": "[encoded data removed]",
      "text/plain": [
       "<Figure size 640x480 with 1 Axes>"
      ]
     },
     "metadata": {},
     "output_type": "display_data"
    }
   ],
   "source": [
    "sns.histplot(merged_df['album_release_date'],color='mediumpurple')\n",
    "plt.title('Release Year Frequency')\n",
    "plt.xlabel('Track Release Year')\n",
    "min, max, mode = merged_df['release_year'].min(), merged_df['release_year'].max(), merged_df['release_year'].mode().iloc[0]\n",
    "print(f'I saved music ranging from {min} to {max}. The most common release year I saved was {mode}.')"
   ]
  },
  {
   "cell_type": "code",
   "execution_count": 18,
   "metadata": {},
   "outputs": [
    {
     "data": {
      "text/plain": [
       "40"
      ]
     },
     "execution_count": 18,
     "metadata": {},
     "output_type": "execute_result"
    }
   ],
   "source": [
    "num_bins = (2025 - 1985)\n",
    "num_bins"
   ]
  },
  {
   "cell_type": "code",
   "execution_count": 129,
   "metadata": {},
   "outputs": [
    {
     "name": "stderr",
     "output_type": "stream",
     "text": [
      "C:\\Users\\ledge\\AppData\\Local\\Temp\\ipykernel_26864\\4045792106.py:38: UserWarning: set_ticklabels() should only be used with a fixed number of ticks, i.e. after set_ticks() or using a FixedLocator.\n",
      "  b.set_xticklabels(range(1985,2025,2), rotation=45,rotation_mode=\"anchor\", ha='right', color='white')\n"
     ]
    },
    {
     "data": {
      "image/png": "[encoded data removed]",
      "text/plain": [
       "<Figure size 640x480 with 1 Axes>"
      ]
     },
     "metadata": {
      "needs_background": "dark"
     },
     "output_type": "display_data"
    }
   ],
   "source": [
    "\n",
    "# Sample DataFrame (Ensure your dataset has these columns)\n",
    "# merged_df should have 'album_release_date' (year) and 'genre' columns\n",
    "# Example: merged_df = pd.DataFrame({'album_release_date': [...], 'genre': [...]})\n",
    "\n",
    "# Define the number of bins (adjust based on data spread)\n",
    "num_bins = 20\n",
    "\n",
    "# Create bins for album release years\n",
    "merged_df[\"year_bin\"] = pd.cut(merged_df[\"release_year\"], bins=num_bins)\n",
    "\n",
    "# Find the most common genre in each bin\n",
    "most_common_genre = merged_df.groupby(\"year_bin\", observed=False).agg({'track_id': 'count', 'genres': lambda x: x.mode()[0] if len(x)> 0 else 'None'})\n",
    "b = sns.barplot(most_common_genre, x='year_bin', y='track_id', hue='genres', palette='viridis')\n",
    "# # Assign a color to each genre\n",
    "# genre_palette = {\n",
    "#     \"Rock\": \"red\",\n",
    "#     \"Pop\": \"blue\",\n",
    "#     \"Jazz\": \"orange\",\n",
    "#     \"Hip-Hop\": \"green\",\n",
    "#     \"Classical\": \"purple\",\n",
    "#     \"Electronic\": \"cyan\"\n",
    "# }  # Extend this to match your genres\n",
    "\n",
    "# # Map each bin to the color of its most common genre\n",
    "# bin_colors = [genre_palette.get(most_common_genre[bin], \"gray\") for bin in most_common_genre.index]\n",
    "\n",
    "# # Plot histogram with per-bin coloring\n",
    "# plt.figure(figsize=(10, 6))\n",
    "# for i, (bin_edge, color) in enumerate(zip(most_common_genre.index.categories, bin_colors)):\n",
    "#     bin_data = merged_df[(merged_df[\"album_release_date\"] >= bin_edge.left) & (merged_df[\"album_release_date\"] < bin_edge.right)]\n",
    "#     sns.histplot(bin_data[\"album_release_date\"], color=color, bins=[bin_edge.left, bin_edge.right])\n",
    "\n",
    "# # Customize plot\n",
    "plt.title(\"Release Year Frequency\", color='white')\n",
    "plt.xlabel(\"Track Release Year\", color='white')\n",
    "plt.ylabel(\"Frequency\",color='white')\n",
    "plt.yticks(color='white')\n",
    "b.set_xticklabels(range(1985,2025,2), rotation=45,rotation_mode=\"anchor\", ha='right', color='white')\n",
    "plt.legend(title=\"Top Genre Per Bin\")\n",
    "# # Show the plot\n",
    "b.figure.patch.set_alpha(0)  # Figure background\n",
    "b.set_facecolor(\"none\")  # Axes background\n",
    "\n",
    "plt.show()\n"
   ]
  },
  {
   "cell_type": "code",
   "execution_count": 131,
   "metadata": {},
   "outputs": [
    {
     "data": {
      "application/vnd.microsoft.datawrangler.viewer.v0+json": {
       "columns": [
        {
         "name": "index",
         "rawType": "int64",
         "type": "integer"
        },
        {
         "name": "added_at",
         "rawType": "datetime64[ns, US/Pacific]",
         "type": "unknown"
        },
        {
         "name": "track_id",
         "rawType": "object",
         "type": "string"
        },
        {
         "name": "track_name",
         "rawType": "object",
         "type": "string"
        },
        {
         "name": "artist_id",
         "rawType": "object",
         "type": "string"
        },
        {
         "name": "artist_name",
         "rawType": "object",
         "type": "string"
        },
        {
         "name": "duration",
         "rawType": "int64",
         "type": "integer"
        },
        {
         "name": "explicit",
         "rawType": "bool",
         "type": "boolean"
        },
        {
         "name": "track_popularity",
         "rawType": "int64",
         "type": "integer"
        },
        {
         "name": "album_type",
         "rawType": "object",
         "type": "string"
        },
        {
         "name": "album_id",
         "rawType": "object",
         "type": "string"
        },
        {
         "name": "album_name",
         "rawType": "object",
         "type": "string"
        },
        {
         "name": "album_release_date",
         "rawType": "datetime64[ns, UTC]",
         "type": "unknown"
        },
        {
         "name": "added_at_date",
         "rawType": "object",
         "type": "unknown"
        },
        {
         "name": "added_at_month",
         "rawType": "period[M]",
         "type": "unknown"
        },
        {
         "name": "added_at_time",
         "rawType": "int32",
         "type": "integer"
        },
        {
         "name": "added_at_dow_val",
         "rawType": "int32",
         "type": "integer"
        },
        {
         "name": "added_at_dow_name",
         "rawType": "object",
         "type": "string"
        },
        {
         "name": "release_dow_val",
         "rawType": "int32",
         "type": "integer"
        },
        {
         "name": "release_dow_name",
         "rawType": "object",
         "type": "string"
        },
        {
         "name": "release_year",
         "rawType": "int32",
         "type": "integer"
        },
        {
         "name": "release_add_delta",
         "rawType": "float64",
         "type": "float"
        },
        {
         "name": "artist_followers",
         "rawType": "int64",
         "type": "integer"
        },
        {
         "name": "genres",
         "rawType": "object",
         "type": "string"
        },
        {
         "name": "artist_popularity",
         "rawType": "int64",
         "type": "integer"
        },
        {
         "name": "year_bin",
         "rawType": "category",
         "type": "unknown"
        }
       ],
       "conversionMethod": "pd.DataFrame",
       "ref": "4920a91b-75c8-4d69-a265-173e5fe0902a",
       "rows": [
        [
         "231",
         "2024-09-20 18:18:56-07:00",
         "60c4l8iCfTzzQALsKcmVan",
         "Bus to Beelzebub",
         "5TOosZsVbwb5O1BOFdcLmw",
         "Soul Coughing",
         "273733",
         "False",
         "23",
         "album",
         "6JHowYqtDso2k1ji5H7vUy",
         "Ruby Vroom",
         "1994-09-20 00:00:00+00:00",
         "2024-09-20",
         "2024-09",
         "18",
         "4",
         "Friday",
         "1",
         "Tuesday",
         "1994",
         "10959.0",
         "136801",
         "alternative rock",
         "42",
         "(1993.0, 1995.0]"
        ]
       ],
       "shape": {
        "columns": 25,
        "rows": 1
       }
      },
      "text/html": [
       "<div>\n",
       "<style scoped>\n",
       "    .dataframe tbody tr th:only-of-type {\n",
       "        vertical-align: middle;\n",
       "    }\n",
       "\n",
       "    .dataframe tbody tr th {\n",
       "        vertical-align: top;\n",
       "    }\n",
       "\n",
       "    .dataframe thead th {\n",
       "        text-align: right;\n",
       "    }\n",
       "</style>\n",
       "<table border=\"1\" class=\"dataframe\">\n",
       "  <thead>\n",
       "    <tr style=\"text-align: right;\">\n",
       "      <th></th>\n",
       "      <th>added_at</th>\n",
       "      <th>track_id</th>\n",
       "      <th>track_name</th>\n",
       "      <th>artist_id</th>\n",
       "      <th>artist_name</th>\n",
       "      <th>duration</th>\n",
       "      <th>explicit</th>\n",
       "      <th>track_popularity</th>\n",
       "      <th>album_type</th>\n",
       "      <th>album_id</th>\n",
       "      <th>...</th>\n",
       "      <th>added_at_dow_val</th>\n",
       "      <th>added_at_dow_name</th>\n",
       "      <th>release_dow_val</th>\n",
       "      <th>release_dow_name</th>\n",
       "      <th>release_year</th>\n",
       "      <th>release_add_delta</th>\n",
       "      <th>artist_followers</th>\n",
       "      <th>genres</th>\n",
       "      <th>artist_popularity</th>\n",
       "      <th>year_bin</th>\n",
       "    </tr>\n",
       "  </thead>\n",
       "  <tbody>\n",
       "    <tr>\n",
       "      <th>231</th>\n",
       "      <td>2024-09-20 18:18:56-07:00</td>\n",
       "      <td>60c4l8iCfTzzQALsKcmVan</td>\n",
       "      <td>Bus to Beelzebub</td>\n",
       "      <td>5TOosZsVbwb5O1BOFdcLmw</td>\n",
       "      <td>Soul Coughing</td>\n",
       "      <td>273733</td>\n",
       "      <td>False</td>\n",
       "      <td>23</td>\n",
       "      <td>album</td>\n",
       "      <td>6JHowYqtDso2k1ji5H7vUy</td>\n",
       "      <td>...</td>\n",
       "      <td>4</td>\n",
       "      <td>Friday</td>\n",
       "      <td>1</td>\n",
       "      <td>Tuesday</td>\n",
       "      <td>1994</td>\n",
       "      <td>10959.0</td>\n",
       "      <td>136801</td>\n",
       "      <td>alternative rock</td>\n",
       "      <td>42</td>\n",
       "      <td>(1993.0, 1995.0]</td>\n",
       "    </tr>\n",
       "  </tbody>\n",
       "</table>\n",
       "<p>1 rows × 25 columns</p>\n",
       "</div>"
      ],
      "text/plain": [
       "                     added_at                track_id        track_name  \\\n",
       "231 2024-09-20 18:18:56-07:00  60c4l8iCfTzzQALsKcmVan  Bus to Beelzebub   \n",
       "\n",
       "                  artist_id    artist_name  duration  explicit  \\\n",
       "231  5TOosZsVbwb5O1BOFdcLmw  Soul Coughing    273733     False   \n",
       "\n",
       "     track_popularity album_type                album_id  ...  \\\n",
       "231                23      album  6JHowYqtDso2k1ji5H7vUy  ...   \n",
       "\n",
       "    added_at_dow_val added_at_dow_name release_dow_val release_dow_name  \\\n",
       "231                4            Friday               1          Tuesday   \n",
       "\n",
       "     release_year  release_add_delta artist_followers            genres  \\\n",
       "231          1994            10959.0           136801  alternative rock   \n",
       "\n",
       "    artist_popularity          year_bin  \n",
       "231                42  (1993.0, 1995.0]  \n",
       "\n",
       "[1 rows x 25 columns]"
      ]
     },
     "execution_count": 131,
     "metadata": {},
     "output_type": "execute_result"
    }
   ],
   "source": [
    "merged_df[merged_df['genres'] == 'alternative rock']"
   ]
  },
  {
   "cell_type": "code",
   "execution_count": null,
   "metadata": {},
   "outputs": [
    {
     "data": {
      "text/plain": [
       "<Axes: xlabel='added_at_date', ylabel='release_year'>"
      ]
     },
     "execution_count": 257,
     "metadata": {},
     "output_type": "execute_result"
    },
    {
     "data": {
      "image/png": "[encoded data removed]",
      "text/plain": [
       "<Figure size 1200x800 with 1 Axes>"
      ]
     },
     "metadata": {},
     "output_type": "display_data"
    }
   ],
   "source": [
    "sns.scatterplot(last_5_years, x='added_at_date', y='release_year')"
   ]
  },
  {
   "cell_type": "code",
   "execution_count": null,
   "metadata": {},
   "outputs": [
    {
     "name": "stdout",
     "output_type": "stream",
     "text": [
      "I saved 423 songs that were released in the last 5 years.\n"
     ]
    }
   ],
   "source": [
    "# Filter out songs that were released in the last 5 years\n",
    "last_5_years = merged_df[merged_df['release_year'] >= 2020]\n",
    "count = last_5_years['release_add_delta'].count()\n",
    "print(f'I saved {count} songs that were released in the last 5 years.')"
   ]
  },
  {
   "cell_type": "code",
   "execution_count": null,
   "metadata": {},
   "outputs": [
    {
     "name": "stdout",
     "output_type": "stream",
     "text": [
      "['#472d7b', '#3b528b', '#2c728e', '#21918c', '#28ae80', '#5ec962', '#addc30']\n"
     ]
    }
   ],
   "source": [
    "print(sns.color_palette(\"viridis\", 7).as_hex())"
   ]
  },
  {
   "cell_type": "code",
   "execution_count": null,
   "metadata": {},
   "outputs": [
    {
     "data": {
      "image/png": "[encoded data removed]",
      "text/plain": [
       "<Figure size 1200x800 with 1 Axes>"
      ]
     },
     "metadata": {
      "needs_background": "dark"
     },
     "output_type": "display_data"
    }
   ],
   "source": [
    "z = sns.scatterplot(data=last_5_years, x='release_year',y='release_add_delta', color='#addc30',marker='s')\n",
    "plt.xticks(rotation=45)\n",
    "plt.title('Days between Release and Add for Songs Released in Last 5 Years', color='white')\n",
    "plt.xticks(color='white')\n",
    "plt.yticks(np.arange(0, 2000, 365), color='white')\n",
    "plt.xlabel('Added at Date', color='white')\n",
    "plt.ylabel('# of Days After Release', color='white')\n",
    "# plt.legend(title='Day of Week', labels=['Monday', 'Tuesday', 'Wednesday', 'Thursday', 'Friday', 'Saturday', 'Sunday'])\n",
    "z.figure.patch.set_alpha(0)  # Figure background\n",
    "z.set_facecolor(\"none\")  # Axes background\n",
    "# z.grid(False)\n",
    "plt.show()"
   ]
  },
  {
   "cell_type": "code",
   "execution_count": null,
   "metadata": {},
   "outputs": [
    {
     "name": "stdout",
     "output_type": "stream",
     "text": [
      "The pearson correlation of -0.1 shows that there is no correlation between the day of the week a song was released and the amount of time it took for me to save it.\n"
     ]
    }
   ],
   "source": [
    "pearson_corr = last_5_years['release_dow_val'].corr(last_5_years['release_add_delta'], method='pearson')\n",
    "print(f'The pearson correlation of {round(pearson_corr,2)} shows that there is no correlation between the day of the week a song was released and the amount of time it took for me to save it.')"
   ]
  },
  {
   "cell_type": "code",
   "execution_count": null,
   "metadata": {},
   "outputs": [
    {
     "data": {
      "text/plain": [
       "([0, 1, 2, 3, 4, 5, 6, 7, 8, 9, 10, 11],\n",
       " [Text(0, 0, '2025-03'),\n",
       "  Text(1, 0, '2025-02'),\n",
       "  Text(2, 0, '2025-01'),\n",
       "  Text(3, 0, '2024-12'),\n",
       "  Text(4, 0, '2024-11'),\n",
       "  Text(5, 0, '2024-10'),\n",
       "  Text(6, 0, '2024-09'),\n",
       "  Text(7, 0, '2024-08'),\n",
       "  Text(8, 0, '2024-07'),\n",
       "  Text(9, 0, '2024-06'),\n",
       "  Text(10, 0, '2024-05'),\n",
       "  Text(11, 0, '2024-04')])"
      ]
     },
     "execution_count": 195,
     "metadata": {},
     "output_type": "execute_result"
    },
    {
     "data": {
      "image/png": "[encoded data removed]",
      "text/plain": [
       "<Figure size 1200x800 with 1 Axes>"
      ]
     },
     "metadata": {},
     "output_type": "display_data"
    }
   ],
   "source": [
    "convert_months = merged_df['added_at_month'].dt.strftime('%Y-%m')\n",
    "convert_months.sort_values()\n",
    "sns.histplot(convert_months)\n",
    "plt.xticks(rotation=45)"
   ]
  },
  {
   "cell_type": "code",
   "execution_count": 23,
   "metadata": {
    "vscode": {
     "languageId": "ruby"
    }
   },
   "outputs": [
    {
     "data": {
      "application/vnd.microsoft.datawrangler.viewer.v0+json": {
       "columns": [
        {
         "name": "index",
         "rawType": "int64",
         "type": "integer"
        },
        {
         "name": "added_at",
         "rawType": "datetime64[ns, US/Pacific]",
         "type": "unknown"
        },
        {
         "name": "track_id",
         "rawType": "object",
         "type": "string"
        },
        {
         "name": "track_name",
         "rawType": "object",
         "type": "string"
        },
        {
         "name": "artist_id",
         "rawType": "object",
         "type": "string"
        },
        {
         "name": "artist_name",
         "rawType": "object",
         "type": "string"
        },
        {
         "name": "duration",
         "rawType": "int64",
         "type": "integer"
        },
        {
         "name": "explicit",
         "rawType": "bool",
         "type": "boolean"
        },
        {
         "name": "track_popularity",
         "rawType": "int64",
         "type": "integer"
        },
        {
         "name": "album_type",
         "rawType": "object",
         "type": "string"
        },
        {
         "name": "album_id",
         "rawType": "object",
         "type": "string"
        },
        {
         "name": "album_name",
         "rawType": "object",
         "type": "string"
        },
        {
         "name": "album_release_date",
         "rawType": "datetime64[ns, UTC]",
         "type": "unknown"
        },
        {
         "name": "added_at_date",
         "rawType": "object",
         "type": "unknown"
        },
        {
         "name": "added_at_month",
         "rawType": "period[M]",
         "type": "unknown"
        },
        {
         "name": "added_at_time",
         "rawType": "int32",
         "type": "integer"
        },
        {
         "name": "added_at_dow_val",
         "rawType": "int32",
         "type": "integer"
        },
        {
         "name": "added_at_dow_name",
         "rawType": "object",
         "type": "string"
        },
        {
         "name": "release_dow_val",
         "rawType": "int32",
         "type": "integer"
        },
        {
         "name": "release_dow_name",
         "rawType": "object",
         "type": "string"
        },
        {
         "name": "release_year",
         "rawType": "int32",
         "type": "integer"
        },
        {
         "name": "release_add_delta",
         "rawType": "float64",
         "type": "float"
        },
        {
         "name": "artist_followers",
         "rawType": "int64",
         "type": "integer"
        },
        {
         "name": "genres",
         "rawType": "object",
         "type": "string"
        },
        {
         "name": "artist_popularity",
         "rawType": "int64",
         "type": "integer"
        },
        {
         "name": "year_bin",
         "rawType": "category",
         "type": "unknown"
        }
       ],
       "conversionMethod": "pd.DataFrame",
       "ref": "31ec1d58-4b9f-447c-b5da-cb8ac452fdd6",
       "rows": [
        [
         "4",
         "2025-03-03 09:04:51-08:00",
         "1zhvxTuSha22nsUT5Nw8gE",
         "15 Minutes",
         "74KM79TiuVKeVCqs8QtB0B",
         "Sabrina Carpenter",
         "191519",
         "True",
         "79",
         "album",
         "3WzBIQmn2hrulLeTY9smkk",
         "Short n' Sweet (Deluxe)",
         "2025-02-14 00:00:00+00:00",
         "2025-03-03",
         "2025-03",
         "9",
         "0",
         "Monday",
         "4",
         "Friday",
         "2025",
         "18.0",
         "20013528",
         "pop",
         "91",
         "(2021.0, 2025.0]"
        ],
        [
         "5",
         "2025-02-28 22:01:33-08:00",
         "5GGA54O0NQK6Bo7nI0cz5k",
         "SUPERSCAR",
         "2qanRMyA5bNuTvz1dK45OP",
         "ADÉLA",
         "194040",
         "False",
         "59",
         "single",
         "2pElP8JopnqWCAEujfbhBL",
         "SUPERSCAR",
         "2024-10-25 00:00:00+00:00",
         "2025-02-28",
         "2025-02",
         "22",
         "4",
         "Friday",
         "4",
         "Friday",
         "2024",
         "127.0",
         "59043",
         "pop",
         "51",
         "(2021.0, 2025.0]"
        ],
        [
         "7",
         "2025-02-16 12:29:35-08:00",
         "3EgRznELSayrCj19aGYRic",
         "Woah!! (feat. kets4eki)",
         "0hrMKLqgNEIemiF4Ag8dTI",
         "Sophie Powers",
         "177000",
         "False",
         "34",
         "single",
         "0vCm9yXPMOX7BpLtuB0YjC",
         "Woah!! (feat. kets4eki)",
         "2024-05-10 00:00:00+00:00",
         "2025-02-16",
         "2025-02",
         "12",
         "6",
         "Sunday",
         "4",
         "Friday",
         "2024",
         "283.0",
         "75957",
         "pop",
         "48",
         "(2021.0, 2025.0]"
        ],
        [
         "12",
         "2025-02-16 11:18:37-08:00",
         "3rUGC1vUpkDG9CZFHMur1t",
         "greedy",
         "45dkTj5sMRSjrmBSBeiHym",
         "Tate McRae",
         "131872",
         "True",
         "81",
         "single",
         "3UOV8XvCwMKaATRNXrYCjN",
         "greedy",
         "2023-09-15 00:00:00+00:00",
         "2025-02-16",
         "2025-02",
         "11",
         "6",
         "Sunday",
         "4",
         "Friday",
         "2023",
         "521.0",
         "7048840",
         "pop",
         "90",
         "(2021.0, 2025.0]"
        ],
        [
         "13",
         "2025-02-16 11:15:58-08:00",
         "2zOmS55knKWSgScYPTNmGQ",
         "Sports car",
         "45dkTj5sMRSjrmBSBeiHym",
         "Tate McRae",
         "165045",
         "False",
         "84",
         "single",
         "1fOTqAU8mRMHlmOaHMqsge",
         "Sports car",
         "2025-01-24 00:00:00+00:00",
         "2025-02-16",
         "2025-02",
         "11",
         "6",
         "Sunday",
         "4",
         "Friday",
         "2025",
         "24.0",
         "7048840",
         "pop",
         "90",
         "(2021.0, 2025.0]"
        ]
       ],
       "shape": {
        "columns": 25,
        "rows": 5
       }
      },
      "text/html": [
       "<div>\n",
       "<style scoped>\n",
       "    .dataframe tbody tr th:only-of-type {\n",
       "        vertical-align: middle;\n",
       "    }\n",
       "\n",
       "    .dataframe tbody tr th {\n",
       "        vertical-align: top;\n",
       "    }\n",
       "\n",
       "    .dataframe thead th {\n",
       "        text-align: right;\n",
       "    }\n",
       "</style>\n",
       "<table border=\"1\" class=\"dataframe\">\n",
       "  <thead>\n",
       "    <tr style=\"text-align: right;\">\n",
       "      <th></th>\n",
       "      <th>added_at</th>\n",
       "      <th>track_id</th>\n",
       "      <th>track_name</th>\n",
       "      <th>artist_id</th>\n",
       "      <th>artist_name</th>\n",
       "      <th>duration</th>\n",
       "      <th>explicit</th>\n",
       "      <th>track_popularity</th>\n",
       "      <th>album_type</th>\n",
       "      <th>album_id</th>\n",
       "      <th>...</th>\n",
       "      <th>added_at_dow_val</th>\n",
       "      <th>added_at_dow_name</th>\n",
       "      <th>release_dow_val</th>\n",
       "      <th>release_dow_name</th>\n",
       "      <th>release_year</th>\n",
       "      <th>release_add_delta</th>\n",
       "      <th>artist_followers</th>\n",
       "      <th>genres</th>\n",
       "      <th>artist_popularity</th>\n",
       "      <th>year_bin</th>\n",
       "    </tr>\n",
       "  </thead>\n",
       "  <tbody>\n",
       "    <tr>\n",
       "      <th>4</th>\n",
       "      <td>2025-03-03 09:04:51-08:00</td>\n",
       "      <td>1zhvxTuSha22nsUT5Nw8gE</td>\n",
       "      <td>15 Minutes</td>\n",
       "      <td>74KM79TiuVKeVCqs8QtB0B</td>\n",
       "      <td>Sabrina Carpenter</td>\n",
       "      <td>191519</td>\n",
       "      <td>True</td>\n",
       "      <td>79</td>\n",
       "      <td>album</td>\n",
       "      <td>3WzBIQmn2hrulLeTY9smkk</td>\n",
       "      <td>...</td>\n",
       "      <td>0</td>\n",
       "      <td>Monday</td>\n",
       "      <td>4</td>\n",
       "      <td>Friday</td>\n",
       "      <td>2025</td>\n",
       "      <td>18.0</td>\n",
       "      <td>20013528</td>\n",
       "      <td>pop</td>\n",
       "      <td>91</td>\n",
       "      <td>(2021.0, 2025.0]</td>\n",
       "    </tr>\n",
       "    <tr>\n",
       "      <th>5</th>\n",
       "      <td>2025-02-28 22:01:33-08:00</td>\n",
       "      <td>5GGA54O0NQK6Bo7nI0cz5k</td>\n",
       "      <td>SUPERSCAR</td>\n",
       "      <td>2qanRMyA5bNuTvz1dK45OP</td>\n",
       "      <td>ADÉLA</td>\n",
       "      <td>194040</td>\n",
       "      <td>False</td>\n",
       "      <td>59</td>\n",
       "      <td>single</td>\n",
       "      <td>2pElP8JopnqWCAEujfbhBL</td>\n",
       "      <td>...</td>\n",
       "      <td>4</td>\n",
       "      <td>Friday</td>\n",
       "      <td>4</td>\n",
       "      <td>Friday</td>\n",
       "      <td>2024</td>\n",
       "      <td>127.0</td>\n",
       "      <td>59043</td>\n",
       "      <td>pop</td>\n",
       "      <td>51</td>\n",
       "      <td>(2021.0, 2025.0]</td>\n",
       "    </tr>\n",
       "    <tr>\n",
       "      <th>7</th>\n",
       "      <td>2025-02-16 12:29:35-08:00</td>\n",
       "      <td>3EgRznELSayrCj19aGYRic</td>\n",
       "      <td>Woah!! (feat. kets4eki)</td>\n",
       "      <td>0hrMKLqgNEIemiF4Ag8dTI</td>\n",
       "      <td>Sophie Powers</td>\n",
       "      <td>177000</td>\n",
       "      <td>False</td>\n",
       "      <td>34</td>\n",
       "      <td>single</td>\n",
       "      <td>0vCm9yXPMOX7BpLtuB0YjC</td>\n",
       "      <td>...</td>\n",
       "      <td>6</td>\n",
       "      <td>Sunday</td>\n",
       "      <td>4</td>\n",
       "      <td>Friday</td>\n",
       "      <td>2024</td>\n",
       "      <td>283.0</td>\n",
       "      <td>75957</td>\n",
       "      <td>pop</td>\n",
       "      <td>48</td>\n",
       "      <td>(2021.0, 2025.0]</td>\n",
       "    </tr>\n",
       "    <tr>\n",
       "      <th>12</th>\n",
       "      <td>2025-02-16 11:18:37-08:00</td>\n",
       "      <td>3rUGC1vUpkDG9CZFHMur1t</td>\n",
       "      <td>greedy</td>\n",
       "      <td>45dkTj5sMRSjrmBSBeiHym</td>\n",
       "      <td>Tate McRae</td>\n",
       "      <td>131872</td>\n",
       "      <td>True</td>\n",
       "      <td>81</td>\n",
       "      <td>single</td>\n",
       "      <td>3UOV8XvCwMKaATRNXrYCjN</td>\n",
       "      <td>...</td>\n",
       "      <td>6</td>\n",
       "      <td>Sunday</td>\n",
       "      <td>4</td>\n",
       "      <td>Friday</td>\n",
       "      <td>2023</td>\n",
       "      <td>521.0</td>\n",
       "      <td>7048840</td>\n",
       "      <td>pop</td>\n",
       "      <td>90</td>\n",
       "      <td>(2021.0, 2025.0]</td>\n",
       "    </tr>\n",
       "    <tr>\n",
       "      <th>13</th>\n",
       "      <td>2025-02-16 11:15:58-08:00</td>\n",
       "      <td>2zOmS55knKWSgScYPTNmGQ</td>\n",
       "      <td>Sports car</td>\n",
       "      <td>45dkTj5sMRSjrmBSBeiHym</td>\n",
       "      <td>Tate McRae</td>\n",
       "      <td>165045</td>\n",
       "      <td>False</td>\n",
       "      <td>84</td>\n",
       "      <td>single</td>\n",
       "      <td>1fOTqAU8mRMHlmOaHMqsge</td>\n",
       "      <td>...</td>\n",
       "      <td>6</td>\n",
       "      <td>Sunday</td>\n",
       "      <td>4</td>\n",
       "      <td>Friday</td>\n",
       "      <td>2025</td>\n",
       "      <td>24.0</td>\n",
       "      <td>7048840</td>\n",
       "      <td>pop</td>\n",
       "      <td>90</td>\n",
       "      <td>(2021.0, 2025.0]</td>\n",
       "    </tr>\n",
       "  </tbody>\n",
       "</table>\n",
       "<p>5 rows × 25 columns</p>\n",
       "</div>"
      ],
      "text/plain": [
       "                    added_at                track_id               track_name  \\\n",
       "4  2025-03-03 09:04:51-08:00  1zhvxTuSha22nsUT5Nw8gE               15 Minutes   \n",
       "5  2025-02-28 22:01:33-08:00  5GGA54O0NQK6Bo7nI0cz5k                SUPERSCAR   \n",
       "7  2025-02-16 12:29:35-08:00  3EgRznELSayrCj19aGYRic  Woah!! (feat. kets4eki)   \n",
       "12 2025-02-16 11:18:37-08:00  3rUGC1vUpkDG9CZFHMur1t                   greedy   \n",
       "13 2025-02-16 11:15:58-08:00  2zOmS55knKWSgScYPTNmGQ               Sports car   \n",
       "\n",
       "                 artist_id        artist_name  duration  explicit  \\\n",
       "4   74KM79TiuVKeVCqs8QtB0B  Sabrina Carpenter    191519      True   \n",
       "5   2qanRMyA5bNuTvz1dK45OP              ADÉLA    194040     False   \n",
       "7   0hrMKLqgNEIemiF4Ag8dTI      Sophie Powers    177000     False   \n",
       "12  45dkTj5sMRSjrmBSBeiHym         Tate McRae    131872      True   \n",
       "13  45dkTj5sMRSjrmBSBeiHym         Tate McRae    165045     False   \n",
       "\n",
       "    track_popularity album_type                album_id  ... added_at_dow_val  \\\n",
       "4                 79      album  3WzBIQmn2hrulLeTY9smkk  ...                0   \n",
       "5                 59     single  2pElP8JopnqWCAEujfbhBL  ...                4   \n",
       "7                 34     single  0vCm9yXPMOX7BpLtuB0YjC  ...                6   \n",
       "12                81     single  3UOV8XvCwMKaATRNXrYCjN  ...                6   \n",
       "13                84     single  1fOTqAU8mRMHlmOaHMqsge  ...                6   \n",
       "\n",
       "   added_at_dow_name release_dow_val release_dow_name  release_year  \\\n",
       "4             Monday               4           Friday          2025   \n",
       "5             Friday               4           Friday          2024   \n",
       "7             Sunday               4           Friday          2024   \n",
       "12            Sunday               4           Friday          2023   \n",
       "13            Sunday               4           Friday          2025   \n",
       "\n",
       "    release_add_delta artist_followers  genres artist_popularity  \\\n",
       "4                18.0         20013528     pop                91   \n",
       "5               127.0            59043     pop                51   \n",
       "7               283.0            75957     pop                48   \n",
       "12              521.0          7048840     pop                90   \n",
       "13               24.0          7048840     pop                90   \n",
       "\n",
       "            year_bin  \n",
       "4   (2021.0, 2025.0]  \n",
       "5   (2021.0, 2025.0]  \n",
       "7   (2021.0, 2025.0]  \n",
       "12  (2021.0, 2025.0]  \n",
       "13  (2021.0, 2025.0]  \n",
       "\n",
       "[5 rows x 25 columns]"
      ]
     },
     "execution_count": 23,
     "metadata": {},
     "output_type": "execute_result"
    }
   ],
   "source": [
    "top_genres = genre_counts[:5]\n",
    "top_songs_by_genre = merged_df[merged_df['genres'].isin(top_genres.index)]\n",
    "# song_genre_counts = top_songs_by_genre['genres'].value_counts()\n",
    "# song_genre_counts\n",
    "# top_songs_by_genre = top_songs_by_genre.sort_values(by='genres', key=lambda x: x.map(song_genre_counts), ascending=False)\n",
    "top_songs_by_genre.head()"
   ]
  },
  {
   "cell_type": "code",
   "execution_count": 28,
   "metadata": {
    "vscode": {
     "languageId": "ruby"
    }
   },
   "outputs": [
    {
     "data": {
      "text/plain": [
       "<Axes: xlabel='added_at_date', ylabel='Count'>"
      ]
     },
     "execution_count": 28,
     "metadata": {},
     "output_type": "execute_result"
    },
    {
     "data": {
      "image/png": "[encoded data removed]",
      "text/plain": [
       "<Figure size 640x480 with 1 Axes>"
      ]
     },
     "metadata": {},
     "output_type": "display_data"
    }
   ],
   "source": [
    "sns.histplot(data=top_songs_by_genre, x='added_at_date', hue='genres', palette='viridis', multiple='stack')\n",
    "# plt.xticks(ticks=range(7), labels=['Mon', 'Tue', 'Wed', 'Thu', 'Fri', 'Sat', 'Sun'])"
   ]
  },
  {
   "cell_type": "code",
   "execution_count": null,
   "metadata": {
    "vscode": {
     "languageId": "ruby"
    }
   },
   "outputs": [
    {
     "name": "stderr",
     "output_type": "stream",
     "text": [
      "C:\\Users\\ledge\\AppData\\Local\\Temp\\ipykernel_25832\\1688178007.py:1: UserWarning: Ignoring `palette` because no `hue` variable has been assigned.\n",
      "  sns.histplot(data=merged_df, x='added_at_date', y='track_popularity', palette='viridis')\n"
     ]
    },
    {
     "data": {
      "text/plain": [
       "<Axes: xlabel='added_at_date', ylabel='track_popularity'>"
      ]
     },
     "execution_count": 198,
     "metadata": {},
     "output_type": "execute_result"
    },
    {
     "data": {
      "image/png": "[encoded data removed]",
      "text/plain": [
       "<Figure size 1200x800 with 1 Axes>"
      ]
     },
     "metadata": {},
     "output_type": "display_data"
    }
   ],
   "source": [
    "sns.histplot(data=merged_df, x='added_at_date', y='track_popularity', palette='viridis')"
   ]
  },
  {
   "cell_type": "code",
   "execution_count": null,
   "metadata": {},
   "outputs": [],
   "source": [
    "# Want best time slots to advertise new pop music\n",
    "# Look at genre over saved date/time\n",
    "# \n",
    "\n",
    "# User stories, Jacq vs Merc vs Luis, can we be categorized into different \"types\" of users\n",
    "# What characteristics define those users?\n",
    "# New music seeker vs Merc songs of the week\n",
    "\n",
    "# What kind of spotify user am I?\n",
    "# Does release day of week matter to me? Am I more likely to save a song if it's released on a certain day?"
   ]
  },
  {
   "cell_type": "markdown",
   "metadata": {},
   "source": [
    "What length of songs am I most frequently saving?\n",
    "\n",
    "How many followers do the artists I have saved usually have?\n",
    "\n",
    "Which day of the week am I saving the most songs?\n",
    "\n",
    "Which time slot of the week am I saving the most songs?\n",
    "\n",
    "Is there statistical significance between day of the week and added at time?\n",
    "\n",
    "What time frame after song release am I most frequently saving songs?\n",
    "\n",
    "Is there a correlation between the day of the week that a song was released and the time taken before saving it?\n",
    "\n",
    "Is there a correlation between the artist's followers/popularity and the time it takes before I save the song?\n",
    "\n",
    "What's my top genre?\n",
    "\n",
    "What patterns of genre saving are there over time? "
   ]
  }
 ],
 "metadata": {
  "kernelspec": {
   "display_name": "AD_450_final",
   "language": "python",
   "name": "python3"
  },
  "language_info": {
   "codemirror_mode": {
    "name": "ipython",
    "version": 3
   },
   "file_extension": ".py",
   "mimetype": "text/x-python",
   "name": "python",
   "nbconvert_exporter": "python",
   "pygments_lexer": "ipython3",
   "version": "3.13.2"
  }
 },
 "nbformat": 4,
 "nbformat_minor": 2
}
